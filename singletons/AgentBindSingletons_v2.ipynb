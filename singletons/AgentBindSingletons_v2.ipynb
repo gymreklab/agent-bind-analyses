{
 "cells": [
  {
   "cell_type": "code",
   "execution_count": 61,
   "metadata": {},
   "outputs": [],
   "source": [
    "# TODO compare to using variants annotated in other ways e.g. deepsea or sat mutgen?"
   ]
  },
  {
   "cell_type": "code",
   "execution_count": 1,
   "metadata": {},
   "outputs": [],
   "source": [
    "import tailer"
   ]
  },
  {
   "cell_type": "code",
   "execution_count": 15,
   "metadata": {},
   "outputs": [
    {
     "name": "stdout",
     "output_type": "stream",
     "text": [
      "Populating the interactive namespace from numpy and matplotlib\n"
     ]
    },
    {
     "name": "stderr",
     "output_type": "stream",
     "text": [
      "/usr/lib/python3.4/site-packages/IPython/core/magics/pylab.py:160: UserWarning: pylab import has clobbered these variables: ['f']\n",
      "`%matplotlib` prevents importing * from pylab and numpy\n",
      "  \"\\n`%matplotlib` prevents importing * from pylab and numpy\"\n",
      "/usr/lib/python3.4/site-packages/ipykernel_launcher.py:32: DeprecationWarning: Calling np.sum(generator) is deprecated, and in the future will give a different result. Use np.sum(np.fromiter(generator)) or the python sum builtin instead.\n"
     ]
    },
    {
     "name": "stdout",
     "output_type": "stream",
     "text": [
      "[0.0006603081474777991]\n",
      "[0.002192110287785126]\n",
      "[0.00046431278208011045]\n",
      "[0.0005466513326916889]\n",
      "[0.0005711687693293194]\n",
      "[0.0011963392190008915]\n",
      "[0.001181633336951489]\n",
      "[0.0006844558351062346]\n",
      "[0.0037465837508804944]\n",
      "[0.0015370504801083817]\n",
      "[0.0016797188370639426]\n",
      "[0.0013099913590755713]\n",
      "[0.0013075498988154854]\n",
      "[0.0022002374392553897]\n",
      "[0.0009028137602474229]\n",
      "[0.0019534079224949596]\n",
      "[0.000830777902622426]\n",
      "[0.0006340585222772144]\n",
      "[0.0007027816897613205]\n",
      "[0.0007781603268518789]\n",
      "[0.0014792670849173295]\n",
      "[0.0006674724232951651]\n",
      "[0.0008895795722373145]\n",
      "[0.0006786819127111016]\n",
      "[0.0012615880919354672]\n",
      "[0.0006851187980208284]\n",
      "[0.0008450233372287175]\n",
      "[0.0009171491874325824]\n",
      "[0.0007919383912021252]\n",
      "[0.004124460332652624]\n",
      "[0.0020187646632655876]\n",
      "[0.0008871746449292464]\n",
      "[0.0007395706895214869]\n",
      "[0.0013852945334138014]\n",
      "[0.0008612901170969092]\n",
      "[0.0007792408653646138]\n",
      "[0.0009331259220599769]\n",
      "[0.0009071097794921129]\n"
     ]
    }
   ],
   "source": [
    "%pylab inline\n",
    "\n",
    "import matplotlib\n",
    "matplotlib.rcParams['pdf.fonttype'] = 42\n",
    "matplotlib.rcParams['ps.fonttype'] = 42\n",
    "\n",
    "import os\n",
    "import pandas as pd\n",
    "import scipy.stats\n",
    "\n",
    "DIR=\"/storage/mgymrek/agent-bind/singletons\"\n",
    "\n",
    "factors = [\"BHLHE40\", \"CEBPB\", \"CTCF\", \"E2F4\", \"EBF1\", \"ELF1\", \"ELK1\", \"ETS1\", \"FOS\", \"IRF4\", \"JunD\", \"Max\", \"MEF2A\", \"MEF2C\", \"Mxi1\", \"NFIC\", \"NFKB\", \"NFYA\", \"NFYB\", \"Nrf1\", \"NRSF\", \"PAX5\", \"PBX3\", \"POU2F2\", \"PU1\", \"RFX5\", \"RUNX3\", \"SP1\", \"SRF\", \"STAT1\", \"STAT3\", \"TCF3\", \"USF1\", \"USF2\", \"YY1\", \"ZBTB33\", \"ZEB1\", \"Znf143\"]\n",
    "\n",
    "factordata = {}\n",
    "factorpercs = {}\n",
    "\n",
    "percs = [99]\n",
    "rank_perc = [995]\n",
    "raw_perc = [999]\n",
    "\n",
    "for f in factors:\n",
    "    fdata = pd.read_csv(os.path.join(DIR, f, \"factor_singletons.tab\"), sep=\"\\t\", skiprows=1,\n",
    "                   names=[\"chrom\",\"pos\",\"ref\",\"alt\",\"freq\",\"raw.score\",\"snr.score\",\"rank\",\"core\"])\n",
    "    fdata[\"freq\"] = fdata[\"freq\"].apply(lambda x: min([x, 1-x])) # Make sure we have MAF\n",
    "    fdata = fdata[fdata[\"freq\"]>0] # Remove if it wasn't seen in anybody. why are those present?\n",
    "    fdata[\"sing\"] = (fdata[\"freq\"]<=0.0002)\n",
    "    fdata = fdata[~np.isnan(fdata[\"raw.score\"])]\n",
    "    fdata[\"factor\"] = f\n",
    "    factordata[f] = fdata\n",
    "    \n",
    "    num_data = sum(1 for line in open(os.path.join(DIR, f, \"raw_vals.txt\")))\n",
    "    fpercs = []\n",
    "    for perc in raw_perc:\n",
    "        linenum = num_data-int(num_data*(perc/1000.0))\n",
    "        fpercs.append(float(tailer.tail(open(os.path.join(DIR, f, \"raw_vals.txt\")), linenum)[0].strip()))\n",
    "    print(fpercs)\n",
    "    factorpercs[f] = fpercs\n",
    "\n",
    "# Get combined data\n",
    "factordata[\"ALL\"] = pd.concat(factordata.values())"
   ]
  },
  {
   "cell_type": "code",
   "execution_count": 20,
   "metadata": {
    "scrolled": false
   },
   "outputs": [],
   "source": [
    "cols = [\"factor\",\"sing.all\",\"sing.core\",\"n.all\",\"n.core\",\"pval.core\"]\n",
    "for i in range(len(percs)):\n",
    "    cols.extend([\"sing.raw.%s\"%percs[i], \"sing.raw.%s.err\"%percs[i], \"pval.raw.%s\"%percs[i],\n",
    "                 \"sing.snr.%s\"%percs[i], \"sing.snr.%s.err\"%percs[i], \"pval.snr.%s\"%percs[i],\n",
    "                 \"sing.rank.%s\"%percs[i], \"sing.rank.%s.err\"%percs[i], \"pval.rank.%s\"%percs[i],\n",
    "                 \"num.%s\"%percs[i]])\n",
    "data = []\n",
    "\n",
    "for f in [\"ALL\"]+factors:\n",
    "    fd = factordata[f]\n",
    "#    print(\"%s - all:%.2f, core: %.2f\"%(f, np.mean(fd[\"sing\"]), np.mean(fd[fd[\"core\"]>0][\"sing\"])))\n",
    "    p_all = np.mean(fd[\"sing\"])\n",
    "    p_core = np.mean(fd[fd[\"core\"]>0][\"sing\"])\n",
    "    n_all = fd.shape[0]\n",
    "    n_core = fd[fd[\"core\"]>0].shape[0]\n",
    "    d = [f, p_all, p_core, n_all, n_core]\n",
    "    raw_score_perc = factorpercs.get(f, [0.0001]) # this is made up for \"ALL\" doesn't make sense\n",
    "    snr_score_perc = np.percentile(fd[\"snr.score\"], percs)\n",
    "    #rank_perc = np.percentile(fd[\"rank\"], percs)\n",
    "\n",
    "    # Get pval for core\n",
    "    n_not_core = n_all-n_core\n",
    "    p_not_core = (p_all*n_all-p_core*n_core)/(n_not_core)\n",
    "    se_core = np.sqrt(p_all*(1-p_all)*(1.0/n_core+1.0/n_not_core))\n",
    "    pval_core = 1-scipy.stats.norm.cdf((p_core-p_not_core)/se_core)\n",
    "    d.append(pval_core)\n",
    "    \n",
    "    for i in range(len(percs)):\n",
    "        r = (fd[fd[\"raw.score\"]>=raw_score_perc[i]][\"sing\"])\n",
    "        s = (fd[fd[\"snr.score\"]>=snr_score_perc[i]][\"sing\"])\n",
    "        rk = (fd[fd[\"rank\"]>=rank_perc[i]][\"sing\"])\n",
    "        p_r = np.mean(r)\n",
    "        p_s = np.mean(s)\n",
    "        p_rk = np.mean(rk)\n",
    "        err_r = np.sqrt(p_r*(1-p_r)/len(r))\n",
    "        err_s = np.sqrt(p_s*(1-p_s)/len(s))\n",
    "        err_rk = np.sqrt(p_rk*(1-p_rk)/len(rk))\n",
    "        n_r = len(r)\n",
    "        n_s = len(s)\n",
    "        n_rk = len(rk)\n",
    "        n_not_r = n_all-n_r\n",
    "        n_not_s = n_all-n_s\n",
    "        n_not_rk = n_all-n_rk\n",
    "        p_not_r = (p_all*n_all-np.sum(r))*1.0/n_not_r\n",
    "        p_not_s = (p_all*n_all-np.sum(s))*1.0/n_not_s\n",
    "        p_not_rk = (p_all*n_all-np.sum(rk))*1.0/n_not_rk\n",
    "        # Compute pvals\n",
    "        se_r = np.sqrt(p_all*(1-p_all)*(1.0/n_r+1.0/n_not_r))\n",
    "        se_s = np.sqrt(p_all*(1-p_all)*(1.0/n_s+1.0/n_not_s))\n",
    "        se_rk = np.sqrt(p_all*(1-p_all)*(1.0/n_rk+1.0/n_not_rk))\n",
    "        pval_r = 1-scipy.stats.norm.cdf((p_r-p_not_r)/se_r)\n",
    "        pval_s = 1-scipy.stats.norm.cdf((p_s-p_not_s)/se_s)\n",
    "        pval_rk = 1-scipy.stats.norm.cdf((p_rk-p_not_rk)/se_rk)\n",
    "        # Add data\n",
    "        d.extend([p_r, err_r, pval_r,\n",
    "                  p_s, err_s, pval_s,\n",
    "                  p_rk, err_rk, pval_rk, len(s)])\n",
    "    data.append(d)\n",
    "\n",
    "results = pd.DataFrame(data, columns=cols)\n",
    "results[\"sing.all.err\"] = results.apply(lambda x: np.sqrt(x[\"sing.all\"]*(1-x[\"sing.all\"])/x[\"n.all\"]), 1)\n",
    "results[\"sing.core.err\"] = results.apply(lambda x: np.sqrt(x[\"sing.core\"]*(1-x[\"sing.core\"])/x[\"n.core\"]), 1)\n",
    "allres = results[results[\"factor\"]==\"ALL\"].copy()\n",
    "results= results[results[\"factor\"]!= \"ALL\"]"
   ]
  },
  {
   "cell_type": "code",
   "execution_count": 21,
   "metadata": {},
   "outputs": [
    {
     "data": {
      "text/html": [
       "<div>\n",
       "<style scoped>\n",
       "    .dataframe tbody tr th:only-of-type {\n",
       "        vertical-align: middle;\n",
       "    }\n",
       "\n",
       "    .dataframe tbody tr th {\n",
       "        vertical-align: top;\n",
       "    }\n",
       "\n",
       "    .dataframe thead th {\n",
       "        text-align: right;\n",
       "    }\n",
       "</style>\n",
       "<table border=\"1\" class=\"dataframe\">\n",
       "  <thead>\n",
       "    <tr style=\"text-align: right;\">\n",
       "      <th></th>\n",
       "      <th>0</th>\n",
       "    </tr>\n",
       "  </thead>\n",
       "  <tbody>\n",
       "    <tr>\n",
       "      <th>factor</th>\n",
       "      <td>ALL</td>\n",
       "    </tr>\n",
       "    <tr>\n",
       "      <th>sing.all</th>\n",
       "      <td>0.453289</td>\n",
       "    </tr>\n",
       "    <tr>\n",
       "      <th>sing.core</th>\n",
       "      <td>0.459535</td>\n",
       "    </tr>\n",
       "    <tr>\n",
       "      <th>n.all</th>\n",
       "      <td>7207839</td>\n",
       "    </tr>\n",
       "    <tr>\n",
       "      <th>n.core</th>\n",
       "      <td>145162</td>\n",
       "    </tr>\n",
       "    <tr>\n",
       "      <th>pval.core</th>\n",
       "      <td>6.8444e-07</td>\n",
       "    </tr>\n",
       "    <tr>\n",
       "      <th>sing.raw.99</th>\n",
       "      <td>0.456439</td>\n",
       "    </tr>\n",
       "    <tr>\n",
       "      <th>sing.raw.99.err</th>\n",
       "      <td>0.00107793</td>\n",
       "    </tr>\n",
       "    <tr>\n",
       "      <th>pval.raw.99</th>\n",
       "      <td>0.00149659</td>\n",
       "    </tr>\n",
       "    <tr>\n",
       "      <th>sing.snr.99</th>\n",
       "      <td>0.463616</td>\n",
       "    </tr>\n",
       "    <tr>\n",
       "      <th>sing.snr.99.err</th>\n",
       "      <td>0.00185743</td>\n",
       "    </tr>\n",
       "    <tr>\n",
       "      <th>pval.snr.99</th>\n",
       "      <td>1.08476e-08</td>\n",
       "    </tr>\n",
       "    <tr>\n",
       "      <th>sing.rank.99</th>\n",
       "      <td>0.464708</td>\n",
       "    </tr>\n",
       "    <tr>\n",
       "      <th>sing.rank.99.err</th>\n",
       "      <td>0.00215068</td>\n",
       "    </tr>\n",
       "    <tr>\n",
       "      <th>pval.rank.99</th>\n",
       "      <td>4.65483e-08</td>\n",
       "    </tr>\n",
       "    <tr>\n",
       "      <th>num.99</th>\n",
       "      <td>72079</td>\n",
       "    </tr>\n",
       "    <tr>\n",
       "      <th>sing.all.err</th>\n",
       "      <td>0.000185423</td>\n",
       "    </tr>\n",
       "    <tr>\n",
       "      <th>sing.core.err</th>\n",
       "      <td>0.00130803</td>\n",
       "    </tr>\n",
       "  </tbody>\n",
       "</table>\n",
       "</div>"
      ],
      "text/plain": [
       "                            0\n",
       "factor                    ALL\n",
       "sing.all             0.453289\n",
       "sing.core            0.459535\n",
       "n.all                 7207839\n",
       "n.core                 145162\n",
       "pval.core          6.8444e-07\n",
       "sing.raw.99          0.456439\n",
       "sing.raw.99.err    0.00107793\n",
       "pval.raw.99        0.00149659\n",
       "sing.snr.99          0.463616\n",
       "sing.snr.99.err    0.00185743\n",
       "pval.snr.99       1.08476e-08\n",
       "sing.rank.99         0.464708\n",
       "sing.rank.99.err   0.00215068\n",
       "pval.rank.99      4.65483e-08\n",
       "num.99                  72079\n",
       "sing.all.err      0.000185423\n",
       "sing.core.err      0.00130803"
      ]
     },
     "execution_count": 21,
     "metadata": {},
     "output_type": "execute_result"
    }
   ],
   "source": [
    "# Overall p-value\n",
    "allres.transpose()"
   ]
  },
  {
   "cell_type": "code",
   "execution_count": 25,
   "metadata": {},
   "outputs": [
    {
     "data": {
      "image/png": "[encoded data removed]",
      "text/plain": [
       "<Figure size 1008x360 with 1 Axes>"
      ]
     },
     "metadata": {
      "needs_background": "light"
     },
     "output_type": "display_data"
    }
   ],
   "source": [
    "results = results.sort_values(\"sing.rank.99\", ascending=False)\n",
    "xvals = np.array(range(results.shape[0]))\n",
    "\n",
    "w = 0.1\n",
    "fig = plt.figure()\n",
    "fig.set_size_inches((14, 5))\n",
    "ax = fig.add_subplot(111)\n",
    "ax.errorbar(xvals, results[\"sing.all\"], label=\"All\", yerr=results[\"sing.all.err\"], marker=\"o\", linewidth=0, elinewidth=1, color=\"black\")\n",
    "ax.errorbar(xvals+w, results[\"sing.core\"], label=\"core\", yerr=results[\"sing.core.err\"], marker=\"o\", linewidth=0, elinewidth=1, color=\"gray\")\n",
    "labl = False\n",
    "for i in range(len(percs)):\n",
    "    x = percs[i]\n",
    "    if not labl:\n",
    "        lab1 = \"SNR\"\n",
    "        lab2 = \"Raw\"\n",
    "    else:\n",
    "        lab1 = \"\"\n",
    "        lab2 = \"\"\n",
    "#    ax.errorbar(xvals+w*(2+i), results[\"sing.snr.%s\"%x], label=lab1, yerr=results[\"sing.snr.%s.err\"%x], marker=\"o\", linewidth=0, elinewidth=1, color=\"red\")\n",
    "#    ax.errorbar(xvals+w*(2+i), results[\"sing.raw.%s\"%x], label=lab2, yerr=results[\"sing.raw.%s.err\"%x], marker=\"o\", linewidth=0, elinewidth=1, color=\"blue\")\n",
    "    ax.errorbar(xvals+w*(2+i), results[\"sing.rank.%s\"%x], label=lab2, yerr=results[\"sing.rank.%s.err\"%x], marker=\"o\", linewidth=0, elinewidth=1, color=\"orange\")\n",
    "    labl = True\n",
    "    \n",
    "ax.spines['right'].set_visible(False)\n",
    "ax.spines['top'].set_visible(False)\n",
    "ax.yaxis.set_ticks_position('left')\n",
    "ax.xaxis.set_ticks_position('bottom')\n",
    "\n",
    "ax.set_xticks(xvals+w)\n",
    "ax.set_xticklabels(results[\"factor\"], rotation=90, size=12);\n",
    "ax.set_yticklabels([\"%0.2f\"%item for item in ax.get_yticks()], size=12)\n",
    "#ax.legend(loc=\"upper left\")\n",
    "ax.set_ylabel(\"Percent singletons\", size=15);"
   ]
  },
  {
   "cell_type": "code",
   "execution_count": 66,
   "metadata": {},
   "outputs": [],
   "source": [
    "# Look at specific snps\n",
    "fd = factordata[\"ALL\"]\n",
    "fd[\"chrom\"] = fd[\"chrom\"].apply(str)\n",
    "gwas = pd.read_csv(\"/storage/mgymrek/gtex/gwas/summarystats/ucsc_gwas_catalog_072419_v2.tab\", sep=\"\\t\")\n",
    "gwas[\"chrom\"] = gwas[\"chrom\"].apply(lambda x: x[3:])\n",
    "gwas[\"pos\"] = gwas[\"start\"]\n",
    "gwd = pd.merge(fd, gwas, on=[\"chrom\",\"pos\"])"
   ]
  },
  {
   "cell_type": "code",
   "execution_count": 67,
   "metadata": {},
   "outputs": [],
   "source": [
    "allfd = fd.groupby([\"chrom\",\"pos\"]).agg({\"rank\": max})\n",
    "allgwd = gwd.groupby([\"chrom\",\"pos\"]).agg({\"rank\": max})"
   ]
  },
  {
   "cell_type": "code",
   "execution_count": 68,
   "metadata": {},
   "outputs": [],
   "source": [
    "# How many snps overlap with gwas catalog?\n",
    "nums = []\n",
    "overlaps = []\n",
    "ranks = list(np.arange(0, 1000, 25))+[999]\n",
    "\n",
    "for rank in ranks:\n",
    "    nums.append(allfd[allfd[\"rank\"]>=rank].shape[0])\n",
    "    overlaps.append(allgwd[allgwd[\"rank\"]>=rank].shape[0])"
   ]
  },
  {
   "cell_type": "code",
   "execution_count": 69,
   "metadata": {},
   "outputs": [
    {
     "data": {
      "image/png": "[encoded data removed]",
      "text/plain": [
       "<Figure size 432x288 with 1 Axes>"
      ]
     },
     "metadata": {
      "needs_background": "light"
     },
     "output_type": "display_data"
    }
   ],
   "source": [
    "percs = [overlaps[i]*1.0/nums[i] for i in range(len(ranks))]\n",
    "errs = [np.sqrt(percs[i]*(1-percs[i])/nums[i]) for i in range(len(ranks))]\n",
    "fig = plt.figure()\n",
    "ax = fig.add_subplot(111)\n",
    "ax.errorbar(ranks, percs, marker=\"o\", yerr=errs, color=\"black\")\n",
    "ax.set_xlabel(\"Score rank\", size=15)\n",
    "ax.set_ylabel(\"Percent in GWAS catalog\", size=15)\n",
    "ax.set_yticklabels([\"%.5f\"%item for item in ax.get_yticks()], size=12);"
   ]
  }
 ],
 "metadata": {
  "kernelspec": {
   "display_name": "Python 3",
   "language": "python",
   "name": "python3"
  },
  "language_info": {
   "codemirror_mode": {
    "name": "ipython",
    "version": 3
   },
   "file_extension": ".py",
   "mimetype": "text/x-python",
   "name": "python",
   "nbconvert_exporter": "python",
   "pygments_lexer": "ipython3",
   "version": "3.7.4"
  }
 },
 "nbformat": 4,
 "nbformat_minor": 2
}
