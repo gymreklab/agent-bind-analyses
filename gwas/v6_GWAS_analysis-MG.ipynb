{
 "cells": [
  {
   "cell_type": "code",
   "execution_count": 2,
   "metadata": {
    "scrolled": false
   },
   "outputs": [
    {
     "name": "stdout",
     "output_type": "stream",
     "text": [
      "Populating the interactive namespace from numpy and matplotlib\n"
     ]
    }
   ],
   "source": [
    "%pylab inline\n",
    "\n",
    "import matplotlib\n",
    "matplotlib.rcParams['pdf.fonttype'] = 42\n",
    "matplotlib.rcParams['ps.fonttype'] = 42\n",
    "\n",
    "#import tailer\n",
    "import os\n",
    "import pandas as pd\n",
    "import scipy.stats"
   ]
  },
  {
   "cell_type": "code",
   "execution_count": 3,
   "metadata": {
    "scrolled": false
   },
   "outputs": [
    {
     "name": "stdout",
     "output_type": "stream",
     "text": [
      "CTCF\n",
      "EBF1\n",
      "SP1\n",
      "PU1\n",
      "RUNX3\n",
      "NFYB\n",
      "Nrf1\n",
      "ELF1\n",
      "NFKB\n",
      "TCF3\n"
     ]
    }
   ],
   "source": [
    "rank_perc = [950, 990, 995]\n",
    "#factors = [\"BHLHE40\", \"CEBPB\", \"CTCF\", \"E2F4\", \"EBF1\", \"ELF1\", \"ELK1\", \"ETS1\", \"FOS\", \"IRF4\", \"JunD\", \"Max\", \"MEF2A\", \"MEF2C\", \"Mxi1\", \"NFIC\", \"NFKB\", \"NFYA\", \"NFYB\", \"Nrf1\", \"NRSF\", \"PAX5\", \"PBX3\", \"POU2F2\", \"PU1\", \"RFX5\", \"RUNX3\", \"SP1\", \"SRF\", \"STAT1\", \"STAT3\", \"TCF3\", \"USF1\", \"USF2\", \"YY1\", \"ZBTB33\", \"ZEB1\", \"Znf143\"]\n",
    "\n",
    "factors = [\"CTCF\",\"EBF1\",\"SP1\",\"PU1\",\"RUNX3\",\"NFYB\",\"Nrf1\",\"ELF1\",\"NFKB\",\"TCF3\"]\n",
    "\n",
    "factordata = {}\n",
    "DIR=\"/storage/pandaman/project/singletons/AgentBind/\"\n",
    "for f in factors:\n",
    "    # load data\n",
    "    fdata = pd.read_csv(os.path.join(DIR, f, \"scores.tab\"), sep=\"\\t\", skiprows=1,\n",
    "                            names=[\"chrom\",\"start\",\"raw.score\",\"snr.score\",\"rank\",\"core\"])\n",
    "    fdata = fdata[~np.isnan(fdata[\"raw.score\"])]\n",
    "    fdata = fdata[~np.isnan(fdata[\"snr.score\"])]\n",
    "    fdata[\"factor\"] = f\n",
    "    factordata[f] = fdata\n",
    "    print (f)"
   ]
  },
  {
   "cell_type": "code",
   "execution_count": 40,
   "metadata": {},
   "outputs": [],
   "source": [
    "#trait = \"WBC\"; gwas = pd.read_csv(\"/storage/pandaman/project/GWAS/wbc_N172435_narrow_form.tsv.gz\", sep=\"\\t\")\n",
    "#trait = \"RBC\"; gwas = pd.read_csv(\"/storage/mgymrek/agent-bind/gwas/summstats/RBC_N172952_summ.tab\", sep=\"\\t\")\n",
    "#trait = \"MCV\"; gwas = pd.read_csv(\"/storage/mgymrek/agent-bind/gwas/summstats/MCV_N172433_summ.tab\", sep=\"\\t\")\n",
    "#trait = \"Height\"; gwas = pd.read_csv(\"/storage/mgymrek/agent-bind/gwas/summstats/HeightYengo_summ.tab\", sep=\"\\t\")\n",
    "trait = \"IBD\"; gwas = pd.read_csv(\"/storage/mgymrek/agent-bind/gwas/summstats/EUR.IBD_summ.tab\", sep=\"\\t\")\n",
    "gwas[\"CHR\"] = gwas[\"CHR\"].apply(lambda x: \"chr\"+str(x))\n",
    "gwas[\"BP\"] = gwas[\"BP\"].apply(lambda x: x-1)\n",
    "gwas = gwas.rename(columns={\"CHR\": \"chrom\", \"BP\": \"start\"})"
   ]
  },
  {
   "cell_type": "code",
   "execution_count": 41,
   "metadata": {
    "scrolled": false
   },
   "outputs": [
    {
     "name": "stdout",
     "output_type": "stream",
     "text": [
      "CTCF\n",
      "EBF1\n",
      "SP1\n",
      "PU1\n",
      "RUNX3\n",
      "NFYB\n",
      "Nrf1\n",
      "ELF1\n",
      "NFKB\n",
      "TCF3\n"
     ]
    }
   ],
   "source": [
    "e"
   ]
  },
  {
   "cell_type": "code",
   "execution_count": 42,
   "metadata": {},
   "outputs": [],
   "source": [
    "bins = [0, 0.00025, 0.0005, 0.001, 0.002, 0.003, 0.004, 0.005, 0.01, 0.05, 0.1, 0.25, 0.5]"
   ]
  },
  {
   "cell_type": "code",
   "execution_count": 43,
   "metadata": {},
   "outputs": [
    {
     "data": {
      "text/html": [
       "<div>\n",
       "<style scoped>\n",
       "    .dataframe tbody tr th:only-of-type {\n",
       "        vertical-align: middle;\n",
       "    }\n",
       "\n",
       "    .dataframe tbody tr th {\n",
       "        vertical-align: top;\n",
       "    }\n",
       "\n",
       "    .dataframe thead th {\n",
       "        text-align: right;\n",
       "    }\n",
       "</style>\n",
       "<table border=\"1\" class=\"dataframe\">\n",
       "  <thead>\n",
       "    <tr style=\"text-align: right;\">\n",
       "      <th></th>\n",
       "      <th>chrom</th>\n",
       "      <th>start</th>\n",
       "      <th>raw.score</th>\n",
       "      <th>snr.score</th>\n",
       "      <th>rank</th>\n",
       "      <th>core</th>\n",
       "      <th>factor</th>\n",
       "      <th>REF</th>\n",
       "      <th>ALT</th>\n",
       "      <th>MLOG10P</th>\n",
       "      <th>MA_FREQ</th>\n",
       "    </tr>\n",
       "  </thead>\n",
       "  <tbody>\n",
       "    <tr>\n",
       "      <td>66325</td>\n",
       "      <td>chr3</td>\n",
       "      <td>101498076</td>\n",
       "      <td>0.000333</td>\n",
       "      <td>23.356206</td>\n",
       "      <td>1000.0</td>\n",
       "      <td>0</td>\n",
       "      <td>SP1</td>\n",
       "      <td>A</td>\n",
       "      <td>G</td>\n",
       "      <td>0.006564</td>\n",
       "      <td>0.06900</td>\n",
       "    </tr>\n",
       "    <tr>\n",
       "      <td>42568</td>\n",
       "      <td>chr3</td>\n",
       "      <td>133292101</td>\n",
       "      <td>0.000237</td>\n",
       "      <td>20.946120</td>\n",
       "      <td>1000.0</td>\n",
       "      <td>0</td>\n",
       "      <td>SP1</td>\n",
       "      <td>T</td>\n",
       "      <td>C</td>\n",
       "      <td>0.966174</td>\n",
       "      <td>0.01010</td>\n",
       "    </tr>\n",
       "    <tr>\n",
       "      <td>291</td>\n",
       "      <td>chr1</td>\n",
       "      <td>17380652</td>\n",
       "      <td>0.000102</td>\n",
       "      <td>14.370318</td>\n",
       "      <td>1000.0</td>\n",
       "      <td>0</td>\n",
       "      <td>SP1</td>\n",
       "      <td>A</td>\n",
       "      <td>C</td>\n",
       "      <td>0.066361</td>\n",
       "      <td>0.00627</td>\n",
       "    </tr>\n",
       "    <tr>\n",
       "      <td>51712</td>\n",
       "      <td>chr19</td>\n",
       "      <td>7633564</td>\n",
       "      <td>0.001314</td>\n",
       "      <td>40.433654</td>\n",
       "      <td>1000.0</td>\n",
       "      <td>0</td>\n",
       "      <td>SP1</td>\n",
       "      <td>C</td>\n",
       "      <td>G</td>\n",
       "      <td>0.361311</td>\n",
       "      <td>0.14200</td>\n",
       "    </tr>\n",
       "    <tr>\n",
       "      <td>99372</td>\n",
       "      <td>chr16</td>\n",
       "      <td>691812</td>\n",
       "      <td>0.000609</td>\n",
       "      <td>31.296192</td>\n",
       "      <td>1000.0</td>\n",
       "      <td>0</td>\n",
       "      <td>SP1</td>\n",
       "      <td>C</td>\n",
       "      <td>G</td>\n",
       "      <td>0.238674</td>\n",
       "      <td>0.00734</td>\n",
       "    </tr>\n",
       "  </tbody>\n",
       "</table>\n",
       "</div>"
      ],
      "text/plain": [
       "       chrom      start  raw.score  snr.score    rank  core factor REF ALT  \\\n",
       "66325   chr3  101498076   0.000333  23.356206  1000.0     0    SP1   A   G   \n",
       "42568   chr3  133292101   0.000237  20.946120  1000.0     0    SP1   T   C   \n",
       "291     chr1   17380652   0.000102  14.370318  1000.0     0    SP1   A   C   \n",
       "51712  chr19    7633564   0.001314  40.433654  1000.0     0    SP1   C   G   \n",
       "99372  chr16     691812   0.000609  31.296192  1000.0     0    SP1   C   G   \n",
       "\n",
       "        MLOG10P  MA_FREQ  \n",
       "66325  0.006564  0.06900  \n",
       "42568  0.966174  0.01010  \n",
       "291    0.066361  0.00627  \n",
       "51712  0.361311  0.14200  \n",
       "99372  0.238674  0.00734  "
      ]
     },
     "execution_count": 43,
     "metadata": {},
     "output_type": "execute_result"
    }
   ],
   "source": [
    "gwd[\"SP1\"].head()"
   ]
  },
  {
   "cell_type": "code",
   "execution_count": 44,
   "metadata": {
    "scrolled": false
   },
   "outputs": [
    {
     "name": "stdout",
     "output_type": "stream",
     "text": [
      "3538 622 3331\n",
      "713 622 666\n",
      "397 622 372\n"
     ]
    },
    {
     "data": {
      "image/png": "[encoded data removed]",
      "text/plain": [
       "<Figure size 360x360 with 1 Axes>"
      ]
     },
     "metadata": {
      "needs_background": "light"
     },
     "output_type": "display_data"
    },
    {
     "data": {
      "image/png": "[encoded data removed]",
      "text/plain": [
       "<Figure size 360x360 with 1 Axes>"
      ]
     },
     "metadata": {
      "needs_background": "light"
     },
     "output_type": "display_data"
    },
    {
     "data": {
      "image/png": "[encoded data removed]",
      "text/plain": [
       "<Figure size 360x360 with 1 Axes>"
      ]
     },
     "metadata": {
      "needs_background": "light"
     },
     "output_type": "display_data"
    }
   ],
   "source": [
    "import random\n",
    "from math import log10\n",
    "\n",
    "for f in factors:\n",
    "    if f != \"SP1\":\n",
    "        continue\n",
    "    for perc_index in range(len(rank_perc)):\n",
    "        high_scored_ab = gwd[f][gwd[f][\"rank\"] >= rank_perc[perc_index]]\n",
    "        core = gwd[f][gwd[f][\"core\"] == 1]\n",
    "        noncore = high_scored_ab[high_scored_ab[\"core\"] == 0]\n",
    "        print (high_scored_ab.shape[0], core.shape[0], noncore.shape[0])\n",
    "        # control - same MA_FREA distribution\n",
    "        dist, _ = numpy.histogram(high_scored_ab[\"MA_FREQ\"].tolist(), bins=bins)\n",
    "        control_list = []\n",
    "        control_list_all = []\n",
    "        for bin_index in range(len(bins)-1):\n",
    "            lower, upper = bins[bin_index], bins[bin_index + 1]\n",
    "            n_samples = dist[bin_index]\n",
    "            control_list.append((gwd[f][(gwd[f][\"MA_FREQ\"] >= lower) & (gwd[f][\"MA_FREQ\"] < upper)]).sample(n_samples))\n",
    "            control_list_all.append((gwas[(gwas[\"MA_FREQ\"] >= lower) & (gwas[\"MA_FREQ\"] < upper)]).sample(n_samples))\n",
    "        control = pd.concat(control_list)\n",
    "        control_all = pd.concat(control_list_all)\n",
    "                \n",
    "        s_high_scored_ab = high_scored_ab[\"MLOG10P\"]\n",
    "        s_core = core[\"MLOG10P\"]\n",
    "        s_noncore = noncore[\"MLOG10P\"]\n",
    "        s_ct = control[\"MLOG10P\"]\n",
    "        s_ct_all = control_all[\"MLOG10P\"]\n",
    "\n",
    "        \n",
    "        s_random = [-log10(random.random()) for _ in range(max(high_scored_ab.shape[0], core.shape[0]))]\n",
    "        s_random_ab = s_random[:high_scored_ab.shape[0]]\n",
    "        s_random_core = s_random[:core.shape[0]]\n",
    "        s_random_noncore = s_random[:noncore.shape[0]]\n",
    "        \n",
    "        y_points_ab = sorted(s_high_scored_ab.values.tolist())\n",
    "        y_points_core = sorted(s_core.values.tolist())\n",
    "        y_points_ct = sorted(s_ct.values.tolist())\n",
    "        y_points_noncore = sorted(s_noncore.values.tolist())\n",
    "        y_points_ct_all = sorted(s_ct_all.values.tolist())\n",
    "        x_points_ab = sorted(s_random_ab)\n",
    "        x_points_core = sorted(s_random_core)\n",
    "        x_points_noncore = sorted(s_random_noncore)\n",
    "        \n",
    "        fig = plt.figure()\n",
    "        fig.set_size_inches((5, 5))\n",
    "        ax = fig.add_subplot(111)\n",
    "        ax.scatter(x_points_ab, y_points_ab, c=\"r\", s=10)\n",
    "        ax.scatter(x_points_core, y_points_core, c=\"b\", s=10)\n",
    "        ax.scatter(x_points_noncore, y_points_noncore, c=\"c\", s=10)\n",
    "        ax.scatter(x_points_ab, y_points_ct, c=\"y\", s=10)\n",
    "        ax.scatter(x_points_ab, y_points_ct_all, c=\"g\", s=10)\n",
    "        ax.set_ylabel(\"%s-threshold:%d\" %(f, rank_perc[perc_index]), size=15)\n",
    "        ((xmin,xmax), (ymin,ymax)) = ((0, 4), (0, 30))\n",
    "        ax.add_line(matplotlib.lines.Line2D([ymin,ymax], [ymin,ymax]))\n",
    "        ax.set_xlim([xmin, xmax])\n",
    "        ax.set_ylim([ymin, ymax])"
   ]
  },
  {
   "cell_type": "code",
   "execution_count": 45,
   "metadata": {
    "scrolled": false
   },
   "outputs": [],
   "source": [
    "results = gwd[\"SP1\"][gwd[\"SP1\"][\"rank\"] >= rank_perc[0]]\n",
    "results = results.sort_values(\"MLOG10P\", ascending=False)\n",
    "#with open(\"/storage/pandaman/project/GWAS/high_scored.csv\", 'w') as ofile:\n",
    "#    ofile.write(results.to_csv(index=False))"
   ]
  },
  {
   "cell_type": "code",
   "execution_count": 46,
   "metadata": {},
   "outputs": [
    {
     "data": {
      "text/html": [
       "<div>\n",
       "<style scoped>\n",
       "    .dataframe tbody tr th:only-of-type {\n",
       "        vertical-align: middle;\n",
       "    }\n",
       "\n",
       "    .dataframe tbody tr th {\n",
       "        vertical-align: top;\n",
       "    }\n",
       "\n",
       "    .dataframe thead th {\n",
       "        text-align: right;\n",
       "    }\n",
       "</style>\n",
       "<table border=\"1\" class=\"dataframe\">\n",
       "  <thead>\n",
       "    <tr style=\"text-align: right;\">\n",
       "      <th></th>\n",
       "      <th>chrom</th>\n",
       "      <th>start</th>\n",
       "      <th>raw.score</th>\n",
       "      <th>snr.score</th>\n",
       "      <th>rank</th>\n",
       "      <th>core</th>\n",
       "      <th>factor</th>\n",
       "      <th>REF</th>\n",
       "      <th>ALT</th>\n",
       "      <th>MLOG10P</th>\n",
       "      <th>MA_FREQ</th>\n",
       "    </tr>\n",
       "  </thead>\n",
       "  <tbody>\n",
       "    <tr>\n",
       "      <td>15621</td>\n",
       "      <td>chr17</td>\n",
       "      <td>37912376</td>\n",
       "      <td>0.000249</td>\n",
       "      <td>9.412739</td>\n",
       "      <td>981.0</td>\n",
       "      <td>0</td>\n",
       "      <td>SP1</td>\n",
       "      <td>T</td>\n",
       "      <td>C</td>\n",
       "      <td>14.869700</td>\n",
       "      <td>0.4950</td>\n",
       "    </tr>\n",
       "    <tr>\n",
       "      <td>44350</td>\n",
       "      <td>chr6</td>\n",
       "      <td>32806552</td>\n",
       "      <td>0.000119</td>\n",
       "      <td>5.075731</td>\n",
       "      <td>963.0</td>\n",
       "      <td>0</td>\n",
       "      <td>SP1</td>\n",
       "      <td>A</td>\n",
       "      <td>G</td>\n",
       "      <td>13.989300</td>\n",
       "      <td>0.0125</td>\n",
       "    </tr>\n",
       "    <tr>\n",
       "      <td>3722</td>\n",
       "      <td>chr3</td>\n",
       "      <td>49761570</td>\n",
       "      <td>0.000082</td>\n",
       "      <td>18.527810</td>\n",
       "      <td>991.0</td>\n",
       "      <td>0</td>\n",
       "      <td>SP1</td>\n",
       "      <td>A</td>\n",
       "      <td>G</td>\n",
       "      <td>10.290000</td>\n",
       "      <td>0.4470</td>\n",
       "    </tr>\n",
       "    <tr>\n",
       "      <td>68678</td>\n",
       "      <td>chr9</td>\n",
       "      <td>139305023</td>\n",
       "      <td>0.000043</td>\n",
       "      <td>14.861786</td>\n",
       "      <td>997.0</td>\n",
       "      <td>0</td>\n",
       "      <td>SP1</td>\n",
       "      <td>A</td>\n",
       "      <td>G</td>\n",
       "      <td>9.759200</td>\n",
       "      <td>0.2650</td>\n",
       "    </tr>\n",
       "    <tr>\n",
       "      <td>114781</td>\n",
       "      <td>chr9</td>\n",
       "      <td>139377498</td>\n",
       "      <td>0.000057</td>\n",
       "      <td>25.171382</td>\n",
       "      <td>998.0</td>\n",
       "      <td>0</td>\n",
       "      <td>SP1</td>\n",
       "      <td>A</td>\n",
       "      <td>G</td>\n",
       "      <td>9.598080</td>\n",
       "      <td>0.2900</td>\n",
       "    </tr>\n",
       "    <tr>\n",
       "      <td>...</td>\n",
       "      <td>...</td>\n",
       "      <td>...</td>\n",
       "      <td>...</td>\n",
       "      <td>...</td>\n",
       "      <td>...</td>\n",
       "      <td>...</td>\n",
       "      <td>...</td>\n",
       "      <td>...</td>\n",
       "      <td>...</td>\n",
       "      <td>...</td>\n",
       "      <td>...</td>\n",
       "    </tr>\n",
       "    <tr>\n",
       "      <td>113159</td>\n",
       "      <td>chr9</td>\n",
       "      <td>130965538</td>\n",
       "      <td>0.000019</td>\n",
       "      <td>3.460992</td>\n",
       "      <td>960.0</td>\n",
       "      <td>0</td>\n",
       "      <td>SP1</td>\n",
       "      <td>A</td>\n",
       "      <td>G</td>\n",
       "      <td>0.000608</td>\n",
       "      <td>0.0211</td>\n",
       "    </tr>\n",
       "    <tr>\n",
       "      <td>19832</td>\n",
       "      <td>chr20</td>\n",
       "      <td>61640655</td>\n",
       "      <td>0.000057</td>\n",
       "      <td>7.548926</td>\n",
       "      <td>987.0</td>\n",
       "      <td>0</td>\n",
       "      <td>SP1</td>\n",
       "      <td>A</td>\n",
       "      <td>G</td>\n",
       "      <td>0.000521</td>\n",
       "      <td>0.0165</td>\n",
       "    </tr>\n",
       "    <tr>\n",
       "      <td>54339</td>\n",
       "      <td>chr1</td>\n",
       "      <td>198590765</td>\n",
       "      <td>0.000262</td>\n",
       "      <td>12.527613</td>\n",
       "      <td>993.0</td>\n",
       "      <td>0</td>\n",
       "      <td>SP1</td>\n",
       "      <td>T</td>\n",
       "      <td>G</td>\n",
       "      <td>0.000435</td>\n",
       "      <td>0.0332</td>\n",
       "    </tr>\n",
       "    <tr>\n",
       "      <td>71914</td>\n",
       "      <td>chr19</td>\n",
       "      <td>34625544</td>\n",
       "      <td>0.000060</td>\n",
       "      <td>9.399262</td>\n",
       "      <td>998.0</td>\n",
       "      <td>0</td>\n",
       "      <td>SP1</td>\n",
       "      <td>C</td>\n",
       "      <td>G</td>\n",
       "      <td>0.000391</td>\n",
       "      <td>0.3420</td>\n",
       "    </tr>\n",
       "    <tr>\n",
       "      <td>109201</td>\n",
       "      <td>chr17</td>\n",
       "      <td>18684475</td>\n",
       "      <td>0.000140</td>\n",
       "      <td>10.859789</td>\n",
       "      <td>998.0</td>\n",
       "      <td>0</td>\n",
       "      <td>SP1</td>\n",
       "      <td>A</td>\n",
       "      <td>G</td>\n",
       "      <td>0.000348</td>\n",
       "      <td>0.0270</td>\n",
       "    </tr>\n",
       "  </tbody>\n",
       "</table>\n",
       "<p>3538 rows × 11 columns</p>\n",
       "</div>"
      ],
      "text/plain": [
       "        chrom      start  raw.score  snr.score   rank  core factor REF ALT  \\\n",
       "15621   chr17   37912376   0.000249   9.412739  981.0     0    SP1   T   C   \n",
       "44350    chr6   32806552   0.000119   5.075731  963.0     0    SP1   A   G   \n",
       "3722     chr3   49761570   0.000082  18.527810  991.0     0    SP1   A   G   \n",
       "68678    chr9  139305023   0.000043  14.861786  997.0     0    SP1   A   G   \n",
       "114781   chr9  139377498   0.000057  25.171382  998.0     0    SP1   A   G   \n",
       "...       ...        ...        ...        ...    ...   ...    ...  ..  ..   \n",
       "113159   chr9  130965538   0.000019   3.460992  960.0     0    SP1   A   G   \n",
       "19832   chr20   61640655   0.000057   7.548926  987.0     0    SP1   A   G   \n",
       "54339    chr1  198590765   0.000262  12.527613  993.0     0    SP1   T   G   \n",
       "71914   chr19   34625544   0.000060   9.399262  998.0     0    SP1   C   G   \n",
       "109201  chr17   18684475   0.000140  10.859789  998.0     0    SP1   A   G   \n",
       "\n",
       "          MLOG10P  MA_FREQ  \n",
       "15621   14.869700   0.4950  \n",
       "44350   13.989300   0.0125  \n",
       "3722    10.290000   0.4470  \n",
       "68678    9.759200   0.2650  \n",
       "114781   9.598080   0.2900  \n",
       "...           ...      ...  \n",
       "113159   0.000608   0.0211  \n",
       "19832    0.000521   0.0165  \n",
       "54339    0.000435   0.0332  \n",
       "71914    0.000391   0.3420  \n",
       "109201   0.000348   0.0270  \n",
       "\n",
       "[3538 rows x 11 columns]"
      ]
     },
     "execution_count": 46,
     "metadata": {},
     "output_type": "execute_result"
    }
   ],
   "source": [
    "results"
   ]
  },
  {
   "cell_type": "code",
   "execution_count": 47,
   "metadata": {},
   "outputs": [
    {
     "data": {
      "image/png": "[encoded data removed]",
      "text/plain": [
       "<Figure size 360x360 with 1 Axes>"
      ]
     },
     "metadata": {
      "needs_background": "light"
     },
     "output_type": "display_data"
    },
    {
     "data": {
      "image/png": "[encoded data removed]",
      "text/plain": [
       "<Figure size 360x360 with 1 Axes>"
      ]
     },
     "metadata": {
      "needs_background": "light"
     },
     "output_type": "display_data"
    }
   ],
   "source": [
    "for f in factors:\n",
    "    if f != \"Nrf1\":\n",
    "        continue\n",
    "    for perc_index in [0,1]:\n",
    "        high_scored_ab = gwd[f][gwd[f][\"rank\"] >= rank_perc[perc_index]]\n",
    "\n",
    "        # control - same MA_FREA distribution\n",
    "        dist, _ = numpy.histogram(high_scored_ab[\"MA_FREQ\"].tolist(), bins=bins)\n",
    "        control_list = []\n",
    "        control_list_all = []\n",
    "        for bin_index in range(len(bins)-1):\n",
    "            lower, upper = bins[bin_index], bins[bin_index + 1]\n",
    "            n_samples = dist[bin_index]\n",
    "            control_list.append((gwd[f][(gwd[f][\"MA_FREQ\"] >= lower) & (gwd[f][\"MA_FREQ\"] < upper)]).sample(n_samples))\n",
    "            control_list_all.append((gwas[(gwas[\"MA_FREQ\"] >= lower) & (gwas[\"MA_FREQ\"] < upper)]).sample(n_samples))\n",
    "        control = pd.concat(control_list)\n",
    "        control_all = pd.concat(control_list_all)\n",
    "        \n",
    "        s_high_scored_ab = high_scored_ab[\"MLOG10P\"]\n",
    "        s_ct = control[\"MLOG10P\"]\n",
    "        s_ct_all = control_all[\"MLOG10P\"]\n",
    "\n",
    "        s_random = [-log10(random.random()) for _ in range(high_scored_ab.shape[0])]\n",
    "        \n",
    "        y_points_ab = sorted(s_high_scored_ab.values.tolist())\n",
    "        y_points_ct = sorted(s_ct.values.tolist())\n",
    "        y_points_ct_all = sorted(s_ct_all.values.tolist())\n",
    "        x_points = sorted(s_random)\n",
    "        \n",
    "        fig = plt.figure()\n",
    "        fig.set_size_inches((5, 5))\n",
    "        ax = fig.add_subplot(111)\n",
    "        ax.scatter(x_points, y_points_ab, c=\"r\", s=10)\n",
    "        ax.scatter(x_points, y_points_ct, c=\"grey\", s=10)\n",
    "        ax.scatter(x_points, y_points_ct_all, c=\"k\", s=10)\n",
    "        ax.set_xlabel(\"expected\", size=15)\n",
    "        ax.set_ylabel(\"observed\", size=15)\n",
    "        ((xmin,xmax), (ymin,ymax)) = ((0, 4), (0, 30))\n",
    "        ax.add_line(matplotlib.lines.Line2D([ymin,ymax], [ymin,ymax]))\n",
    "        ax.set_xlim([xmin, xmax])\n",
    "        ax.set_ylim([ymin, ymax])\n",
    "        fig.savefig(\"AgentBindGWAS-%s-%s-%s.pdf\"%(f, trait, rank_perc[perc_index]))"
   ]
  },
  {
   "cell_type": "code",
   "execution_count": 48,
   "metadata": {
    "scrolled": false
   },
   "outputs": [
    {
     "data": {
      "image/png": "[encoded data removed]",
      "text/plain": [
       "<Figure size 360x360 with 1 Axes>"
      ]
     },
     "metadata": {
      "needs_background": "light"
     },
     "output_type": "display_data"
    }
   ],
   "source": [
    "factors_to_plot = factors #[\"IRF4\", \"PU1\", \"ZEB1\", \"Znf143\"]\n",
    "#f2c = {\"IRF4\":\"b\", \"PU1\":'r', \"ZEB1\":\"c\", \"Znf143\":\"k\"}\n",
    "#[\"CTCF\",\"EBF1\",\"SP1\",\"PU1\",\"RUNX3\",\"NFYB\",\"NRF1\",\"ELF1\",\"NFKB\",\"TCF3\"]\n",
    "f2c = {\n",
    "    \"SP1\": \"red\",\n",
    "    \"CTCF\": \"orange\",\n",
    "    \"EBF1\": \"yellow\",\n",
    "    \"PU1\": \"green\",\n",
    "    \"RUNX3\": \"blue\",\n",
    "    \"NFYB\": \"purple\",\n",
    "    \"Nrf1\": \"violet\",\n",
    "    \"ELF1\": \"magenta\",\n",
    "    \"NFKB\": \"cyan\",\n",
    "    \"TCF3\": \"brown\"\n",
    "}\n",
    "\n",
    "for perc_index in [0]:\n",
    "    fig = plt.figure()\n",
    "    fig.set_size_inches((5, 5))\n",
    "    ax = fig.add_subplot(111)\n",
    "    ax.set_xlabel(\"expected\", size=15)\n",
    "    ax.set_ylabel(\"observed\", size=15)\n",
    "    ((xmin,xmax), (ymin,ymax)) = ((0, 3.5), (0, 30))\n",
    "    ax.add_line(matplotlib.lines.Line2D([ymin,ymax], [ymin,ymax]))\n",
    "    ax.set_xlim([xmin, xmax])\n",
    "    #ax.set_ylim([ymin, ymax])\n",
    "    \n",
    "    s_random = [-log10(random.random()) for _ in range(int(10e6))]\n",
    "    for f in f2c.keys():\n",
    "        high_scored_ab = gwd[f][gwd[f][\"rank\"] >= rank_perc[perc_index]]\n",
    "        s_high_scored_ab = high_scored_ab[\"MLOG10P\"]\n",
    "        y_points_ab = sorted(s_high_scored_ab.values.tolist())        \n",
    "        x_points = sorted(s_random[:high_scored_ab.shape[0]])     \n",
    "        ax.scatter(x_points, y_points_ab,  s=5, c=f2c[f], label=f)\n",
    "    ax.legend(loc=\"upper left\")\n",
    "    fig.savefig(\"AgentBind-MultiFactor-%s.pdf\"%trait)\n",
    "    fig.savefig(\"AgentBind-MultiFactor-%s.png\"%trait)\n"
   ]
  },
  {
   "cell_type": "code",
   "execution_count": null,
   "metadata": {},
   "outputs": [],
   "source": []
  },
  {
   "cell_type": "code",
   "execution_count": null,
   "metadata": {},
   "outputs": [],
   "source": []
  }
 ],
 "metadata": {
  "kernelspec": {
   "display_name": "Python 3",
   "language": "python",
   "name": "python3"
  },
  "language_info": {
   "codemirror_mode": {
    "name": "ipython",
    "version": 3
   },
   "file_extension": ".py",
   "mimetype": "text/x-python",
   "name": "python",
   "nbconvert_exporter": "python",
   "pygments_lexer": "ipython3",
   "version": "3.7.4"
  }
 },
 "nbformat": 4,
 "nbformat_minor": 2
}
