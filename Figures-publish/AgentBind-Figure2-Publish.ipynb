{
 "cells": [
  {
   "cell_type": "code",
   "execution_count": 2,
   "metadata": {},
   "outputs": [
    {
     "name": "stdout",
     "output_type": "stream",
     "text": [
      "Populating the interactive namespace from numpy and matplotlib\n"
     ]
    }
   ],
   "source": [
    "%pylab inline\n",
    "\n",
    "import matplotlib\n",
    "matplotlib.rcParams['pdf.fonttype'] = 42\n",
    "matplotlib.rcParams['ps.fonttype'] = 42\n",
    "\n",
    "import os\n",
    "import pandas as pd\n",
    "import scipy\n",
    "#from sklearn.metrics import roc_auc_score, roc_curve\n",
    "import seaborn as sns\n",
    "OUTDIR = \"pdfs/\""
   ]
  },
  {
   "cell_type": "markdown",
   "metadata": {},
   "source": [
    "This notebook contains code to generate the following results from Zheng et al 2020:\n",
    "\n",
    "* Figure 2A: model interpretation comparison\n",
    "* Figure 2B: example simulated sequences\n",
    "* Figure 2C: example GCAM for real SP1 data example\n",
    "* Figure 2D: Aggregate importance scores heatmap (pos)\n",
    "* Extended Data Figure 2: Aggregate importance scores heatmap (neg)\n",
    "* Figure 2E: Aggregate examples for specific TFs"
   ]
  },
  {
   "cell_type": "markdown",
   "metadata": {},
   "source": [
    "# Figure 2A: model interpretation comparison"
   ]
  },
  {
   "cell_type": "code",
   "execution_count": null,
   "metadata": {},
   "outputs": [],
   "source": [
    "def draw_curve(path):\n",
    "    root = \"/storage/pandaman/project/AgentBind-Simulation/\"\n",
    "    motif_list_auc = []\n",
    "    for line in open(\"/storage/pandaman/project/AgentBind-Simulation/\"+path+\"motif_pos_for_auc.txt\"):\n",
    "        motif_list_auc.append(float(line))\n",
    "    ranks_list_auc = []\n",
    "    for line in open(path+\"ranks_for_auc.txt\"):\n",
    "        ranks_list_auc.append(float(line))\n",
    "    \n",
    "    auc_value = roc_auc_score(motif_list_auc, ranks_list_auc)\n",
    "    print (\"%s :: auc val - %f\" %(path, auc_value))\n",
    "    fpr, tpr, thresholds = roc_curve(motif_list_auc, ranks_list_auc)\n",
    "    return fpr, tpr\n",
    "\n",
    "fpr_gcam, tpr_gcam = draw_curve(\"results_new/gcam/c/simulated-TAL1/\")\n",
    "fpr_reg, tpr_reg = draw_curve(\"results_new/reg/c/simulated-TAL1/\")\n",
    "fpr_prtb, tpr_prtb = draw_curve(\"results_new/prtb/c/simulated-TAL1/\")\n",
    "fpr_gcam_ds, tpr_gcam_ds = draw_curve(\"results_deepsea/gcam/c/simulated-TAL1/\")\n",
    "fpr_reg_ds, tpr_reg_ds = draw_curve(\"results_deepsea/reg/c/simulated-TAL1/\")\n",
    "fpr_prtb_ds, tpr_prtb_ds = draw_curve(\"results_deepsea/prtb/c/simulated-TAL1/\")\n",
    "fpr_dl, tpr_dl = draw_curve(\"results/deeplift/c/rescale_conv_revealcancel_fc/\")\n",
    "\n",
    "fig = plt.figure()\n",
    "ax = fig.add_subplot(111)\n",
    "ax.plot(fpr_reg, tpr_reg, color=\"limegreen\", label=\"SMAP-DanQ\")\n",
    "ax.plot(fpr_prtb, tpr_prtb, color=\"skyblue\", label=\"MUT-DanQ\")\n",
    "ax.plot(fpr_gcam, tpr_gcam, color=\"darkred\", label=\"GCAM-DanQ\")\n",
    "ax.plot(fpr_reg_ds, tpr_reg_ds, linestyle='--', color=\"limegreen\", label=\"SMAP-DeepSEA\")\n",
    "ax.plot(fpr_prtb_ds, tpr_prtb_ds, linestyle='--', color=\"skyblue\", label=\"MUT-DeepSEA\")\n",
    "ax.plot(fpr_gcam_ds, tpr_gcam_ds, linestyle='--', color=\"darkred\", label=\"GCAM-DeepSEA\")\n",
    "ax.plot(fpr_dl, tpr_dl, linestyle='--', color=\"orange\", label=\"DeepLIFT-DeepSEA\")\n",
    "ax.plot([0,1],[0,1], color=\"black\", linewidth=0.5)\n",
    "ax.spines['right'].set_visible(False)\n",
    "ax.spines['top'].set_visible(False)\n",
    "ax.set_xlabel('false positive rate')\n",
    "ax.set_ylabel('true positive rate')\n",
    "ax.legend(loc=\"lower right\")\n",
    "fig.savefig(os.path.join(OUTDIR, \"figure2a.pdf\"))\n",
    "#plt.show()\n",
    "plt.close()"
   ]
  },
  {
   "cell_type": "markdown",
   "metadata": {},
   "source": [
    "# Figure 2B: example simulated sequences"
   ]
  },
  {
   "cell_type": "code",
   "execution_count": 3,
   "metadata": {},
   "outputs": [
    {
     "data": {
      "image/png": "[encoded data removed]",
      "text/plain": [
       "<Figure size 720x504 with 5 Axes>"
      ]
     },
     "metadata": {
      "needs_background": "light"
     },
     "output_type": "display_data"
    }
   ],
   "source": [
    "TF_list = [\"CTCF\",\n",
    "\"EBF1\",\n",
    "\"SP1\",\n",
    "\"PU1\",\n",
    "\"RUNX3\",\n",
    "\"NFYB\",\n",
    "\"Nrf1\",\n",
    "\"ELF1\",\n",
    "\"NFKB\",\n",
    "\"TCF3\",\n",
    "\"Mxi1\",\n",
    "\"USF1\",\n",
    "\"YY1\",\n",
    "\"USF2\",\n",
    "\"ZEB1\",\n",
    "\"PAX5\",\n",
    "\"POU2F2\",\n",
    "\"NRSF\",\n",
    "\"PBX3\",\n",
    "\"MEF2A\",\n",
    "\"E2F4\",\n",
    "\"BHLHE40\",\n",
    "\"ELK1\",\n",
    "\"NFIC\",\n",
    "\"MEF2C\",\n",
    "\"Max\",\n",
    "\"SRF\",\n",
    "\"Znf143\",\n",
    "\"IRF4\",\n",
    "\"ZBTB33\",\n",
    "\"NFYA\",\n",
    "\"ETS1\",\n",
    "\"RFX5\",\n",
    "\"STAT3\",\n",
    "\"JunD\",\n",
    "\"CEBPB\",\n",
    "\"STAT1\",\n",
    "\"FOS\"]\n",
    "\n",
    "exnum = 89\n",
    "gcfile_ex = \"/storage/pandaman/project/AgentBind-Simulation/results_new/gcam/c/simulated-TAL1/weight_figures/vis-sample-%s.txt\"%exnum\n",
    "gcam = [float(item.strip().split()[1]) for item in open(gcfile_ex, \"r\").readlines()]\n",
    "\n",
    "smfile_ex = \"/storage/pandaman/project/AgentBind-Simulation/results_new/reg/c/simulated-TAL1/weight_figures/vis-sample-%s.txt\"%exnum\n",
    "sm = [float(item.strip().split()[1]) for item in open(smfile_ex, \"r\").readlines()]\n",
    "\n",
    "mutfile_ex = \"/storage/pandaman/project/AgentBind-Simulation/results_new/prtb/c/simulated-TAL1/weight_figures/vis-sample-%s.txt\"%exnum\n",
    "mut = [float(item.strip().split()[1])-0.90 for item in open(mutfile_ex, \"r\").readlines()]\n",
    "\n",
    "dlfile_ex = \"/storage/pandaman/project/AgentBind-Simulation/results/deeplift/c/rescale_conv_revealcancel_fc/weight_figures/vis-sample-%s.txt\"%exnum\n",
    "dl = [float(item.strip().split()[1]) for item in open(dlfile_ex, \"r\").readlines()]\n",
    "\n",
    "sval = 1\n",
    "color = \"darkblue\"\n",
    "\n",
    "xvals = range(len(gcam))\n",
    "motif_pos = [1 if ((idx>=338 and idx<354) or (idx>=748 and idx<764)) else 0 for idx in xvals]\n",
    "core_pos = [1 if ((idx>=492 and idx<508)) else 0 for idx in xvals]\n",
    "\n",
    "fig = plt.figure()\n",
    "fig.set_size_inches((10,7))\n",
    "\n",
    "ax = fig.add_subplot(511)\n",
    "ax.axhline(y=0.5, color=\"black\", linewidth=1)\n",
    "ax.bar(xvals, motif_pos, color=\"red\", width=1)\n",
    "ax.bar(xvals, core_pos, color=\"grey\", width=1)\n",
    "ax.set_xticks([])\n",
    "ax.set_yticks([])\n",
    "ax.set_ylim(bottom=0, top=5)\n",
    "ax.spines['right'].set_visible(False)\n",
    "ax.spines['left'].set_visible(False)\n",
    "ax.spines['top'].set_visible(False)\n",
    "ax.spines['bottom'].set_visible(False)\n",
    "\n",
    "ax = fig.add_subplot(512)\n",
    "ax.ticklabel_format(axis='y', style='scientific', scilimits=(0,0))\n",
    "ax.bar(xvals, gcam, color=color, width=1)\n",
    "ax.set_xticks([])\n",
    "#ax.set_yticks(np.arange(-0.05, 0.11, 0.05))\n",
    "ax.axhline(y=0, color=\"gray\", linewidth=0.5)\n",
    "#ax.set_ylim(bottom=-0.0009, top=0.001)\n",
    "ax.spines['right'].set_visible(False)\n",
    "ax.spines['top'].set_visible(False)\n",
    "ax.spines['bottom'].set_visible(False)\n",
    "\n",
    "ax = fig.add_subplot(513)\n",
    "ax.ticklabel_format(axis='y', style='scientific', scilimits=(0,0))\n",
    "ax.bar(xvals, sm, color=color,  width=1)\n",
    "ax.set_xticks([])\n",
    "ax.axhline(y=0, color=\"gray\", linewidth=0.5)\n",
    "#ax.set_yticks(np.arange(-0.05, 0.06, 0.05))\n",
    "#ax.set_ylim(bottom=-3, top=4.5)\n",
    "ax.spines['right'].set_visible(False)\n",
    "ax.spines['top'].set_visible(False)\n",
    "ax.spines['bottom'].set_visible(False)\n",
    "\n",
    "ax = fig.add_subplot(514)\n",
    "ax.ticklabel_format(axis='y', style='scientific', scilimits=(0,0))\n",
    "ax.bar(xvals, mut, color=color,  width=1, bottom=0.90)\n",
    "#ax.set_yticks(np.arange(0, 0.021, 0.01))\n",
    "ax.set_xticks([])\n",
    "ax.axhline(y=0.90, color=\"gray\", linewidth=0.5)\n",
    "ax.set_ylim(bottom=-0.1, top=7.6)\n",
    "ax.spines['right'].set_visible(False)\n",
    "ax.spines['top'].set_visible(False)\n",
    "ax.spines['bottom'].set_visible(False)\n",
    "\n",
    "ax = fig.add_subplot(515)\n",
    "ax.ticklabel_format(axis='y', style='scientific', scilimits=(0,0))\n",
    "ax.bar(xvals, dl, color=color, width=1)\n",
    "#ax.set_yticks(np.arange(0, 0.021, 0.01))\n",
    "ax.set_xticks(np.arange(0, 1001, 100))\n",
    "ax.set_xticklabels(list(np.arange(-500, 1, 100)) + [\"+%s\"%item for item in np.arange(100, 501, 100)])\n",
    "ax.axhline(y=0, color=\"gray\", linewidth=0.5)\n",
    "#ax.set_ylim(bottom=-0.1, top=2.1)\n",
    "ax.spines['right'].set_visible(False)\n",
    "ax.spines['top'].set_visible(False)\n",
    "\n",
    "\n",
    "fig.savefig(os.path.join(OUTDIR, \"AgentBind_Figure2b_sim.pdf\"))"
   ]
  },
  {
   "cell_type": "markdown",
   "metadata": {},
   "source": [
    "# Figure 2C: real GCAM example"
   ]
  },
  {
   "cell_type": "code",
   "execution_count": null,
   "metadata": {},
   "outputs": [],
   "source": [
    "# TODO"
   ]
  },
  {
   "cell_type": "markdown",
   "metadata": {},
   "source": [
    "# Figure 2D/E: aggregate scores heatmap"
   ]
  },
  {
   "cell_type": "code",
   "execution_count": null,
   "metadata": {},
   "outputs": [
    {
     "name": "stdout",
     "output_type": "stream",
     "text": [
      "BHLHE40\n",
      "CEBPB\n",
      "CTCF\n",
      "E2F4\n",
      "EBF1\n",
      "ELF1\n",
      "ELK1\n",
      "ETS1\n",
      "FOS\n",
      "IRF4\n",
      "JunD\n",
      "Max\n",
      "MEF2A\n",
      "MEF2C\n",
      "Mxi1\n",
      "NFIC\n",
      "NFKB\n",
      "NFYA\n",
      "NFYB\n",
      "Nrf1\n",
      "NRSF\n",
      "PAX5\n",
      "PBX3\n",
      "POU2F2\n",
      "PU1\n",
      "RFX5\n",
      "RUNX3\n",
      "SP1\n"
     ]
    }
   ],
   "source": [
    "# Load position vector for each factor, motif masked or unmasked\n",
    "\n",
    "COREDIR = \"/storage/pandaman/project/AgentBind-GM12878-DanQ-unfixed-rnn-trans/storage/AgentBind-GM12878-DanQ/tmp/\"\n",
    "factors = [\"BHLHE40\", \"CEBPB\", \"CTCF\", \"E2F4\", \"EBF1\", \"ELF1\", \"ELK1\", \"ETS1\", \"FOS\", \\\n",
    "           \"IRF4\", \"JunD\", \"Max\", \"MEF2A\", \"MEF2C\", \"Mxi1\", \"NFIC\", \"NFKB\", \"NFYA\", \\\n",
    "           \"NFYB\", \"Nrf1\", \"NRSF\", \"PAX5\", \"PBX3\", \"POU2F2\", \"PU1\", \"RFX5\", \"RUNX3\", \\\n",
    "           \"SP1\", \"SRF\", \"STAT1\", \"STAT3\", \"TCF3\", \"USF1\", \"USF2\", \"YY1\", \"ZBTB33\", \"ZEB1\", \"Znf143\"]\n",
    "\n",
    "weights_core = []\n",
    "weights_masked = []\n",
    "\n",
    "def LoadWeights(file):\n",
    "    f = open(file, \"r\")\n",
    "    locline = f.readline()\n",
    "    wline = f.readline()\n",
    "    aggweights = [0]*1000\n",
    "    numloc = 0\n",
    "    while locline.strip() != \"\":\n",
    "        numloc += 1\n",
    "        weights = [max([0, float(item)]) for item in wline.strip().split(\";\")]\n",
    "        if locline.strip()[-1] == \"-\":\n",
    "            weights = weights[::-1] \n",
    "        aggweights = [weights[i]+aggweights[i] for i in range(len(weights))]\n",
    "        locline = f.readline()\n",
    "        wline = f.readline()\n",
    "    return [item*1.0/numloc for item in aggweights]\n",
    "\n",
    "for f in factors:\n",
    "    print(f)\n",
    "    corefile = os.path.join(COREDIR, \"%s+GM12878\"%f, \"seqs_one_hot_c/vis-weights-total/weight.txt\")\n",
    "    maskfile = os.path.join(COREDIR, \"%s+GM12878\"%f, \"seqs_one_hot_b/vis-weights-total/weight.txt\")\n",
    "    corew = LoadWeights(corefile)\n",
    "    corem = LoadWeights(maskfile)\n",
    "    weights_core.append(corew)\n",
    "    weights_masked.append(corem)"
   ]
  },
  {
   "cell_type": "code",
   "execution_count": null,
   "metadata": {},
   "outputs": [],
   "source": [
    "df_concat = pd.concat([weights_core_df, weights_mask_df], axis=1)\n",
    "g = sns.clustermap(df_concat, col_cluster=False, cmap=\"Blues\", xticklabels=False, vmax=0.005);\n",
    "g.savefig(os.path.join(OUTDIR, \"AgentBind_Figure2_AggPatterns.pdf\"))"
   ]
  },
  {
   "cell_type": "code",
   "execution_count": null,
   "metadata": {},
   "outputs": [],
   "source": [
    "for factor in [\"Nrf1\",\"PU1\",\"YY1\", \"SP1\",\"CTCF\",\"MEF2A\",\"YY1\"]:\n",
    "    fig = plt.figure()\n",
    "    fig.set_size_inches((8, 5))\n",
    "    wm = weights_masked[factors.index(factor)]\n",
    "    wc = weights_core[factors.index(factor)]\n",
    "    ax = fig.add_subplot(211)\n",
    "    ax.plot(range(len(wm)), wm, color=\"black\");\n",
    "    ax = fig.add_subplot(212)\n",
    "    ax.plot(range(len(wc)), wc, color=\"red\");\n",
    "    fig.tight_layout()\n",
    "    fig.savefig(os.path.join(OUTDIR, \"AgentBind_Figure2_AggPatterns_%s.pdf\"%factor))"
   ]
  }
 ],
 "metadata": {
  "kernelspec": {
   "display_name": "Python 3",
   "language": "python",
   "name": "python3"
  }
 },
 "nbformat": 4,
 "nbformat_minor": 4
}
