{
 "cells": [
  {
   "cell_type": "code",
   "execution_count": 2,
   "metadata": {},
   "outputs": [
    {
     "name": "stdout",
     "output_type": "stream",
     "text": [
      "Populating the interactive namespace from numpy and matplotlib\n"
     ]
    }
   ],
   "source": [
    "%pylab inline\n",
    "\n",
    "import matplotlib\n",
    "matplotlib.rcParams['pdf.fonttype'] = 42\n",
    "matplotlib.rcParams['ps.fonttype'] = 42\n",
    "\n",
    "import os\n",
    "import pandas as pd\n",
    "import scipy\n",
    "#from sklearn.metrics import roc_auc_score, roc_curve\n",
    "import seaborn as sns\n",
    "OUTDIR = \"pdfs/\""
   ]
  },
  {
   "cell_type": "markdown",
   "metadata": {},
   "source": [
    "This notebook contains code to generate the following results from Zheng et al 2020:\n",
    "\n",
    "* ED Figure 5: singletons"
   ]
  },
  {
   "cell_type": "code",
   "execution_count": 3,
   "metadata": {},
   "outputs": [
    {
     "name": "stdout",
     "output_type": "stream",
     "text": [
      "BHLHE40\n"
     ]
    },
    {
     "ename": "FileNotFoundError",
     "evalue": "[Errno 2] File b'/storage/pandaman/project/singletons/AgentBind/BHLHE40/factor_singletons_r2.tab' does not exist: b'/storage/pandaman/project/singletons/AgentBind/BHLHE40/factor_singletons_r2.tab'",
     "output_type": "error",
     "traceback": [
      "\u001b[0;31m---------------------------------------------------------------------------\u001b[0m",
      "\u001b[0;31mFileNotFoundError\u001b[0m                         Traceback (most recent call last)",
      "\u001b[0;32m<ipython-input-3-0d42ce405190>\u001b[0m in \u001b[0;36m<module>\u001b[0;34m\u001b[0m\n\u001b[1;32m     10\u001b[0m     fdata = pd.read_csv(os.path.join(DIR, f, \"factor_singletons_r2.tab\"), sep=\"\\t\", skiprows=1,\n\u001b[1;32m     11\u001b[0m                             names=[\"chrom\",\"start\", \"end\", \"ref\", \"AC\", \"AN\",\n\u001b[0;32m---> 12\u001b[0;31m                                    \"raw.score\",\"snr.score\",\"rank\",\"core\"])\n\u001b[0m\u001b[1;32m     13\u001b[0m     \u001b[0mfdata\u001b[0m \u001b[0;34m=\u001b[0m \u001b[0mfdata\u001b[0m\u001b[0;34m[\u001b[0m\u001b[0;34m~\u001b[0m\u001b[0mnp\u001b[0m\u001b[0;34m.\u001b[0m\u001b[0misnan\u001b[0m\u001b[0;34m(\u001b[0m\u001b[0mfdata\u001b[0m\u001b[0;34m[\u001b[0m\u001b[0;34m\"raw.score\"\u001b[0m\u001b[0;34m]\u001b[0m\u001b[0;34m)\u001b[0m\u001b[0;34m]\u001b[0m\u001b[0;34m\u001b[0m\u001b[0;34m\u001b[0m\u001b[0m\n\u001b[1;32m     14\u001b[0m     \u001b[0mfdata\u001b[0m \u001b[0;34m=\u001b[0m \u001b[0mfdata\u001b[0m\u001b[0;34m[\u001b[0m\u001b[0;34m~\u001b[0m\u001b[0mnp\u001b[0m\u001b[0;34m.\u001b[0m\u001b[0misnan\u001b[0m\u001b[0;34m(\u001b[0m\u001b[0mfdata\u001b[0m\u001b[0;34m[\u001b[0m\u001b[0;34m\"snr.score\"\u001b[0m\u001b[0;34m]\u001b[0m\u001b[0;34m)\u001b[0m\u001b[0;34m]\u001b[0m\u001b[0;34m\u001b[0m\u001b[0;34m\u001b[0m\u001b[0m\n",
      "\u001b[0;32m/storage/resources/source/anaconda2/envs/py37/lib/python3.7/site-packages/pandas/io/parsers.py\u001b[0m in \u001b[0;36mparser_f\u001b[0;34m(filepath_or_buffer, sep, delimiter, header, names, index_col, usecols, squeeze, prefix, mangle_dupe_cols, dtype, engine, converters, true_values, false_values, skipinitialspace, skiprows, skipfooter, nrows, na_values, keep_default_na, na_filter, verbose, skip_blank_lines, parse_dates, infer_datetime_format, keep_date_col, date_parser, dayfirst, cache_dates, iterator, chunksize, compression, thousands, decimal, lineterminator, quotechar, quoting, doublequote, escapechar, comment, encoding, dialect, error_bad_lines, warn_bad_lines, delim_whitespace, low_memory, memory_map, float_precision)\u001b[0m\n\u001b[1;32m    683\u001b[0m         )\n\u001b[1;32m    684\u001b[0m \u001b[0;34m\u001b[0m\u001b[0m\n\u001b[0;32m--> 685\u001b[0;31m         \u001b[0;32mreturn\u001b[0m \u001b[0m_read\u001b[0m\u001b[0;34m(\u001b[0m\u001b[0mfilepath_or_buffer\u001b[0m\u001b[0;34m,\u001b[0m \u001b[0mkwds\u001b[0m\u001b[0;34m)\u001b[0m\u001b[0;34m\u001b[0m\u001b[0;34m\u001b[0m\u001b[0m\n\u001b[0m\u001b[1;32m    686\u001b[0m \u001b[0;34m\u001b[0m\u001b[0m\n\u001b[1;32m    687\u001b[0m     \u001b[0mparser_f\u001b[0m\u001b[0;34m.\u001b[0m\u001b[0m__name__\u001b[0m \u001b[0;34m=\u001b[0m \u001b[0mname\u001b[0m\u001b[0;34m\u001b[0m\u001b[0;34m\u001b[0m\u001b[0m\n",
      "\u001b[0;32m/storage/resources/source/anaconda2/envs/py37/lib/python3.7/site-packages/pandas/io/parsers.py\u001b[0m in \u001b[0;36m_read\u001b[0;34m(filepath_or_buffer, kwds)\u001b[0m\n\u001b[1;32m    455\u001b[0m \u001b[0;34m\u001b[0m\u001b[0m\n\u001b[1;32m    456\u001b[0m     \u001b[0;31m# Create the parser.\u001b[0m\u001b[0;34m\u001b[0m\u001b[0;34m\u001b[0m\u001b[0;34m\u001b[0m\u001b[0m\n\u001b[0;32m--> 457\u001b[0;31m     \u001b[0mparser\u001b[0m \u001b[0;34m=\u001b[0m \u001b[0mTextFileReader\u001b[0m\u001b[0;34m(\u001b[0m\u001b[0mfp_or_buf\u001b[0m\u001b[0;34m,\u001b[0m \u001b[0;34m**\u001b[0m\u001b[0mkwds\u001b[0m\u001b[0;34m)\u001b[0m\u001b[0;34m\u001b[0m\u001b[0;34m\u001b[0m\u001b[0m\n\u001b[0m\u001b[1;32m    458\u001b[0m \u001b[0;34m\u001b[0m\u001b[0m\n\u001b[1;32m    459\u001b[0m     \u001b[0;32mif\u001b[0m \u001b[0mchunksize\u001b[0m \u001b[0;32mor\u001b[0m \u001b[0miterator\u001b[0m\u001b[0;34m:\u001b[0m\u001b[0;34m\u001b[0m\u001b[0;34m\u001b[0m\u001b[0m\n",
      "\u001b[0;32m/storage/resources/source/anaconda2/envs/py37/lib/python3.7/site-packages/pandas/io/parsers.py\u001b[0m in \u001b[0;36m__init__\u001b[0;34m(self, f, engine, **kwds)\u001b[0m\n\u001b[1;32m    893\u001b[0m             \u001b[0mself\u001b[0m\u001b[0;34m.\u001b[0m\u001b[0moptions\u001b[0m\u001b[0;34m[\u001b[0m\u001b[0;34m\"has_index_names\"\u001b[0m\u001b[0;34m]\u001b[0m \u001b[0;34m=\u001b[0m \u001b[0mkwds\u001b[0m\u001b[0;34m[\u001b[0m\u001b[0;34m\"has_index_names\"\u001b[0m\u001b[0;34m]\u001b[0m\u001b[0;34m\u001b[0m\u001b[0;34m\u001b[0m\u001b[0m\n\u001b[1;32m    894\u001b[0m \u001b[0;34m\u001b[0m\u001b[0m\n\u001b[0;32m--> 895\u001b[0;31m         \u001b[0mself\u001b[0m\u001b[0;34m.\u001b[0m\u001b[0m_make_engine\u001b[0m\u001b[0;34m(\u001b[0m\u001b[0mself\u001b[0m\u001b[0;34m.\u001b[0m\u001b[0mengine\u001b[0m\u001b[0;34m)\u001b[0m\u001b[0;34m\u001b[0m\u001b[0;34m\u001b[0m\u001b[0m\n\u001b[0m\u001b[1;32m    896\u001b[0m \u001b[0;34m\u001b[0m\u001b[0m\n\u001b[1;32m    897\u001b[0m     \u001b[0;32mdef\u001b[0m \u001b[0mclose\u001b[0m\u001b[0;34m(\u001b[0m\u001b[0mself\u001b[0m\u001b[0;34m)\u001b[0m\u001b[0;34m:\u001b[0m\u001b[0;34m\u001b[0m\u001b[0;34m\u001b[0m\u001b[0m\n",
      "\u001b[0;32m/storage/resources/source/anaconda2/envs/py37/lib/python3.7/site-packages/pandas/io/parsers.py\u001b[0m in \u001b[0;36m_make_engine\u001b[0;34m(self, engine)\u001b[0m\n\u001b[1;32m   1133\u001b[0m     \u001b[0;32mdef\u001b[0m \u001b[0m_make_engine\u001b[0m\u001b[0;34m(\u001b[0m\u001b[0mself\u001b[0m\u001b[0;34m,\u001b[0m \u001b[0mengine\u001b[0m\u001b[0;34m=\u001b[0m\u001b[0;34m\"c\"\u001b[0m\u001b[0;34m)\u001b[0m\u001b[0;34m:\u001b[0m\u001b[0;34m\u001b[0m\u001b[0;34m\u001b[0m\u001b[0m\n\u001b[1;32m   1134\u001b[0m         \u001b[0;32mif\u001b[0m \u001b[0mengine\u001b[0m \u001b[0;34m==\u001b[0m \u001b[0;34m\"c\"\u001b[0m\u001b[0;34m:\u001b[0m\u001b[0;34m\u001b[0m\u001b[0;34m\u001b[0m\u001b[0m\n\u001b[0;32m-> 1135\u001b[0;31m             \u001b[0mself\u001b[0m\u001b[0;34m.\u001b[0m\u001b[0m_engine\u001b[0m \u001b[0;34m=\u001b[0m \u001b[0mCParserWrapper\u001b[0m\u001b[0;34m(\u001b[0m\u001b[0mself\u001b[0m\u001b[0;34m.\u001b[0m\u001b[0mf\u001b[0m\u001b[0;34m,\u001b[0m \u001b[0;34m**\u001b[0m\u001b[0mself\u001b[0m\u001b[0;34m.\u001b[0m\u001b[0moptions\u001b[0m\u001b[0;34m)\u001b[0m\u001b[0;34m\u001b[0m\u001b[0;34m\u001b[0m\u001b[0m\n\u001b[0m\u001b[1;32m   1136\u001b[0m         \u001b[0;32melse\u001b[0m\u001b[0;34m:\u001b[0m\u001b[0;34m\u001b[0m\u001b[0;34m\u001b[0m\u001b[0m\n\u001b[1;32m   1137\u001b[0m             \u001b[0;32mif\u001b[0m \u001b[0mengine\u001b[0m \u001b[0;34m==\u001b[0m \u001b[0;34m\"python\"\u001b[0m\u001b[0;34m:\u001b[0m\u001b[0;34m\u001b[0m\u001b[0;34m\u001b[0m\u001b[0m\n",
      "\u001b[0;32m/storage/resources/source/anaconda2/envs/py37/lib/python3.7/site-packages/pandas/io/parsers.py\u001b[0m in \u001b[0;36m__init__\u001b[0;34m(self, src, **kwds)\u001b[0m\n\u001b[1;32m   1915\u001b[0m         \u001b[0mkwds\u001b[0m\u001b[0;34m[\u001b[0m\u001b[0;34m\"usecols\"\u001b[0m\u001b[0;34m]\u001b[0m \u001b[0;34m=\u001b[0m \u001b[0mself\u001b[0m\u001b[0;34m.\u001b[0m\u001b[0musecols\u001b[0m\u001b[0;34m\u001b[0m\u001b[0;34m\u001b[0m\u001b[0m\n\u001b[1;32m   1916\u001b[0m \u001b[0;34m\u001b[0m\u001b[0m\n\u001b[0;32m-> 1917\u001b[0;31m         \u001b[0mself\u001b[0m\u001b[0;34m.\u001b[0m\u001b[0m_reader\u001b[0m \u001b[0;34m=\u001b[0m \u001b[0mparsers\u001b[0m\u001b[0;34m.\u001b[0m\u001b[0mTextReader\u001b[0m\u001b[0;34m(\u001b[0m\u001b[0msrc\u001b[0m\u001b[0;34m,\u001b[0m \u001b[0;34m**\u001b[0m\u001b[0mkwds\u001b[0m\u001b[0;34m)\u001b[0m\u001b[0;34m\u001b[0m\u001b[0;34m\u001b[0m\u001b[0m\n\u001b[0m\u001b[1;32m   1918\u001b[0m         \u001b[0mself\u001b[0m\u001b[0;34m.\u001b[0m\u001b[0munnamed_cols\u001b[0m \u001b[0;34m=\u001b[0m \u001b[0mself\u001b[0m\u001b[0;34m.\u001b[0m\u001b[0m_reader\u001b[0m\u001b[0;34m.\u001b[0m\u001b[0munnamed_cols\u001b[0m\u001b[0;34m\u001b[0m\u001b[0;34m\u001b[0m\u001b[0m\n\u001b[1;32m   1919\u001b[0m \u001b[0;34m\u001b[0m\u001b[0m\n",
      "\u001b[0;32mpandas/_libs/parsers.pyx\u001b[0m in \u001b[0;36mpandas._libs.parsers.TextReader.__cinit__\u001b[0;34m()\u001b[0m\n",
      "\u001b[0;32mpandas/_libs/parsers.pyx\u001b[0m in \u001b[0;36mpandas._libs.parsers.TextReader._setup_parser_source\u001b[0;34m()\u001b[0m\n",
      "\u001b[0;31mFileNotFoundError\u001b[0m: [Errno 2] File b'/storage/pandaman/project/singletons/AgentBind/BHLHE40/factor_singletons_r2.tab' does not exist: b'/storage/pandaman/project/singletons/AgentBind/BHLHE40/factor_singletons_r2.tab'"
     ]
    }
   ],
   "source": [
    "factors = [\"BHLHE40\", \"CEBPB\", \"CTCF\", \"E2F4\", \"EBF1\", \"ELF1\", \"ELK1\", \"ETS1\", \"FOS\", \"IRF4\", \"JunD\", \"Max\", \"MEF2A\", \"MEF2C\", \"Mxi1\", \"NFIC\", \"NFKB\", \"NFYA\", \"NFYB\", \"Nrf1\", \"NRSF\", \"PAX5\", \"PBX3\", \"POU2F2\", \"PU1\", \"RFX5\", \"RUNX3\", \"SP1\", \"SRF\", \"STAT1\", \"STAT3\", \"TCF3\", \"USF1\", \"USF2\", \"YY1\", \"ZBTB33\", \"ZEB1\", \"Znf143\"]\n",
    "rank_perc = [950, 990, 995]\n",
    "\n",
    "factordata = {}\n",
    "DIR=\"/storage/pandaman/project/singletons/AgentBind/\"\n",
    "\n",
    "# load data\n",
    "for f in factors:\n",
    "    print(f)\n",
    "    fdata = pd.read_csv(os.path.join(DIR, f, \"factor_singletons_r2.tab\"), sep=\"\\t\", skiprows=1,\n",
    "                            names=[\"chrom\",\"start\", \"end\", \"ref\", \"AC\", \"AN\",\n",
    "                                   \"raw.score\",\"snr.score\",\"rank\",\"core\"])\n",
    "    fdata = fdata[~np.isnan(fdata[\"raw.score\"])]\n",
    "    fdata = fdata[~np.isnan(fdata[\"snr.score\"])]\n",
    "    fdata[\"factor\"] = f\n",
    "    factordata[f] = fdata\n",
    "\n",
    "# Set singleton definition\n",
    "for f in factors:\n",
    "    factordata[f][\"sing\"] = (factordata[f][\"AC\"] == 1) | \\\n",
    "        ((factordata[f][\"AN\"] - factordata[f][\"AC\"]) == 1)"
   ]
  },
  {
   "cell_type": "code",
   "execution_count": null,
   "metadata": {},
   "outputs": [],
   "source": [
    "data = []\n",
    "\n",
    "for f in factors:\n",
    "    d = []\n",
    "    fd = factordata[f]\n",
    "    \n",
    "    # Get pval for core\n",
    "    p_all = np.mean(fd[\"sing\"])\n",
    "    p_core = np.mean(fd[fd[\"core\"]>0][\"sing\"])\n",
    "    n_all = fd.shape[0]\n",
    "    n_core = fd[fd[\"core\"]>0].shape[0]\n",
    "    d = [f, p_all, p_core, n_all, n_core]\n",
    "    n_not_core = n_all-n_core\n",
    "    p_not_core = (p_all*n_all-p_core*n_core)/(n_not_core)\n",
    "    se_core = np.sqrt(p_all*(1-p_all)*(1.0/n_core+1.0/n_not_core))\n",
    "    pval_core = 1-scipy.stats.norm.cdf((p_core-p_not_core)/se_core)\n",
    "    d.append(pval_core)\n",
    "    \n",
    "    for i in range(len(rank_perc)):\n",
    "        rk = (fd[fd[\"rank\"]>=rank_perc[i]][\"sing\"])\n",
    "        p_rk = np.mean(rk)\n",
    "        diff_p_rk = p_rk - p_all\n",
    "        err_rk = np.sqrt(p_rk*(1-p_rk)/len(rk))\n",
    "        n_rk = len(rk)\n",
    "        n_not_rk = n_all-n_rk\n",
    "        p_not_rk = (p_all*n_all-np.sum(rk))*1.0/n_not_rk\n",
    "        # Compute pvals\n",
    "        se_rk = np.sqrt(p_all*(1-p_all)*(1.0/n_rk+1.0/n_not_rk))\n",
    "        pval_rk = 1-scipy.stats.norm.cdf((p_rk-p_not_rk)/se_rk)\n",
    "        # Add data\n",
    "        d.extend([p_rk, diff_p_rk, err_rk, pval_rk, len(rk)])\n",
    "    data.append(d)\n",
    "\n",
    "cols = [\"factor\",\"sing.all\",\"sing.core\",\"n.all\",\"n.core\",\"pval.core\"]\n",
    "for i in range(len(rank_perc)):\n",
    "    cols.extend([\"sing.rank.%s\"%rank_perc[i], \"diff.rank.%s\"%rank_perc[i], \n",
    "                 \"sing.rank.%s.err\"%rank_perc[i], \"pval.rank.%s\"%rank_perc[i],\n",
    "                \"num.%s\"%rank_perc[i]])\n",
    "results = pd.DataFrame(data, columns=cols)\n",
    "results[\"sing.all.err\"] = results.apply(lambda x: np.sqrt(x[\"sing.all\"]*(1-x[\"sing.all\"])/x[\"n.all\"]), 1)\n",
    "results[\"sing.core.err\"] = results.apply(lambda x: np.sqrt(x[\"sing.core\"]*(1-x[\"sing.core\"])/x[\"n.core\"]), 1)"
   ]
  },
  {
   "cell_type": "code",
   "execution_count": null,
   "metadata": {},
   "outputs": [],
   "source": [
    "results[[\"factor\",\"sing.all\",\"sing.rank.950\",\"sing.rank.990\",\"sing.rank.995\"]]"
   ]
  },
  {
   "cell_type": "code",
   "execution_count": null,
   "metadata": {},
   "outputs": [],
   "source": [
    "results[[\"factor\",\"sing.all\",\"sing.rank.950\",\"sing.rank.990\",\"sing.rank.995\"]][results[\"sing.all\"]> results[\"sing.rank.995\"]]"
   ]
  },
  {
   "cell_type": "code",
   "execution_count": null,
   "metadata": {},
   "outputs": [],
   "source": [
    "results = results.sort_values(\"diff.rank.995\", ascending=False)\n",
    "xvals = np.array(range(results.shape[0]))\n",
    "\n",
    "w = 0.1\n",
    "fig = plt.figure()\n",
    "fig.set_size_inches((12, 5))\n",
    "ax = fig.add_subplot(111)\n",
    "ax.errorbar(xvals, results[\"sing.all\"], label=\"All\", yerr=results[\"sing.all.err\"], marker=\"o\", linewidth=0, elinewidth=1, color=\"black\")\n",
    "#ax.errorbar(xvals+w, results[\"sing.core\"], label=\"core\", yerr=results[\"sing.core.err\"], marker=\"o\", linewidth=0, elinewidth=1, color=\"g\")\n",
    "\n",
    "i=0\n",
    "x = rank_perc[i]\n",
    "lab = \"Rank\"\n",
    "ax.errorbar(xvals+w*(2+i), results[\"sing.rank.%s\"%x], label=lab, yerr=results[\"sing.rank.%s.err\"%x], marker=\"o\", linewidth=0, elinewidth=1, color=\"orange\")\n",
    "\n",
    "i=2\n",
    "x = rank_perc[i]\n",
    "ax.errorbar(xvals+w*(2+i), results[\"sing.rank.%s\"%x], label=lab, yerr=results[\"sing.rank.%s.err\"%x], marker=\"o\", linewidth=0, elinewidth=1, color=\"red\")\n",
    "    \n",
    "ax.spines['right'].set_visible(False)\n",
    "ax.spines['top'].set_visible(False)\n",
    "ax.yaxis.set_ticks_position('left')\n",
    "ax.xaxis.set_ticks_position('bottom')\n",
    "\n",
    "ax.set_xticks(xvals+w)\n",
    "ax.set_xticklabels(results[\"factor\"], rotation=90, size=12, fontname=\"Arial\");\n",
    "ax.set_yticklabels([\"%0.2f\"%item for item in ax.get_yticks()], size=12, fontname=\"Arial\")\n",
    "#ax.legend(loc=\"upper left\")\n",
    "ax.set_ylabel(\"Percent singletons\", size=15, fontname=\"Arial\")\n",
    "plt.tight_layout()\n",
    "fig.savefig(os.path.join(OUTDIR, \"singleton_950_995.pdf\"))"
   ]
  },
  {
   "cell_type": "code",
   "execution_count": null,
   "metadata": {},
   "outputs": [],
   "source": [
    "results = results.sort_values(\"diff.rank.995\", ascending=False)\n",
    "xvals = np.array(range(results.shape[0]))\n",
    "\n",
    "w = 0.1\n",
    "fig = plt.figure()\n",
    "fig.set_size_inches((12, 5))\n",
    "ax = fig.add_subplot(111)\n",
    "ax.errorbar(xvals, results[\"sing.all\"], label=\"All\", yerr=results[\"sing.all.err\"], marker=\"o\", linewidth=0, elinewidth=1, color=\"black\")\n",
    "ax.errorbar(xvals+w, results[\"sing.core\"], label=\"core\", yerr=results[\"sing.core.err\"], marker=\"o\", linewidth=0, elinewidth=1, color=\"steelblue\")\n",
    "lab = True\n",
    "for i in [2]:\n",
    "    x = rank_perc[i]\n",
    "    if not lab:\n",
    "        lab = \"Rank\"\n",
    "    else:\n",
    "        lab = \"\"\n",
    "    ax.errorbar(xvals+w*(2+i), results[\"sing.rank.%s\"%x], label=lab, yerr=results[\"sing.rank.%s.err\"%x], marker=\"o\", linewidth=0, elinewidth=1, color=\"red\")\n",
    "    \n",
    "ax.spines['right'].set_visible(False)\n",
    "ax.spines['top'].set_visible(False)\n",
    "ax.yaxis.set_ticks_position('left')\n",
    "ax.xaxis.set_ticks_position('bottom')\n",
    "\n",
    "ax.set_xticks(xvals+w)\n",
    "ax.set_xticklabels(results[\"factor\"], rotation=90, size=12);\n",
    "ax.set_yticklabels([\"%0.2f\"%item for item in ax.get_yticks()], size=12)\n",
    "#ax.legend(loc=\"upper left\")\n",
    "ax.set_ylabel(\"Percent singletons\", size=15);\n",
    "fig.savefig(os.path.join(OUTDIR, \"singleton_995_core.pdf\"))"
   ]
  }
 ],
 "metadata": {
  "kernelspec": {
   "display_name": "Python 3",
   "language": "python",
   "name": "python3"
  },
  "language_info": {
   "codemirror_mode": {
    "name": "ipython",
    "version": 3
   },
   "file_extension": ".py",
   "mimetype": "text/x-python",
   "name": "python",
   "nbconvert_exporter": "python",
   "pygments_lexer": "ipython3",
   "version": "3.7.4"
  }
 },
 "nbformat": 4,
 "nbformat_minor": 4
}
