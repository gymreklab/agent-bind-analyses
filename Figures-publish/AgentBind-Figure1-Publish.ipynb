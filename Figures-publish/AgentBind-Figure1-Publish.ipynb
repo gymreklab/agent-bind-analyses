{
 "cells": [
  {
   "cell_type": "code",
   "execution_count": 4,
   "metadata": {},
   "outputs": [
    {
     "name": "stdout",
     "output_type": "stream",
     "text": [
      "Populating the interactive namespace from numpy and matplotlib\n"
     ]
    }
   ],
   "source": [
    "%pylab inline\n",
    "\n",
    "import matplotlib\n",
    "matplotlib.rcParams['pdf.fonttype'] = 42\n",
    "matplotlib.rcParams['ps.fonttype'] = 42\n",
    "\n",
    "import os\n",
    "import pandas as pd\n",
    "from sklearn.metrics import roc_curve, roc_auc_score\n",
    "import seaborn as sns\n",
    "OUTDIR = \"pdfs/\"\n"
   ]
  },
  {
   "cell_type": "markdown",
   "metadata": {},
   "source": [
    "This notebook contains code to generate the following results from Zheng et al 2020:\n",
    "\n",
    "* Figure 1B (ROC for SP1)\n",
    "* Figure 1C (compare to IMPACT)"
   ]
  },
  {
   "cell_type": "markdown",
   "metadata": {},
   "source": [
    "# Figure 1B: example ROC for SP1"
   ]
  },
  {
   "cell_type": "code",
   "execution_count": null,
   "metadata": {},
   "outputs": [],
   "source": [
    "factor = \"SP1\"\n",
    "\n",
    "scratch_f = \"/storage/pandaman/project/AgentBind-GM12878-DanQ-from-scratch/storage/AgentBind-GM12878-DanQ/results/c/%s+GM12878/lable-logit.txt\"%factor\n",
    "pretrain_danq_f = \"/storage/pandaman/project/AgentBind-GM12878-DanQ-fixed-rnn-trans/storage/AgentBind-GM12878-DanQ/results/c/%s+GM12878/lable-logit.txt\"%factor\n",
    "scratch_f_b = \"/storage/pandaman/project/AgentBind-GM12878-DanQ-from-scratch/storage/AgentBind-GM12878-DanQ/results/b/%s+GM12878/lable-logit.txt\"%factor\n",
    "pretrain_danq_f_b = \"/storage/pandaman/project/AgentBind-GM12878-DanQ-fixed-rnn-trans/storage/AgentBind-GM12878-DanQ/results/b/%s+GM12878/lable-logit.txt\"%factor\n",
    "\n",
    "scratch = pd.read_csv(scratch_f, sep=\"\\t\", names=[\"label\",\"score\"])\n",
    "pretrain_danq = pd.read_csv(pretrain_danq_f, sep=\"\\t\", names=[\"label\",\"score\"])\n",
    "scratch_b = pd.read_csv(scratch_f_b, sep=\"\\t\", names=[\"label\",\"score\"])\n",
    "pretrain_danq_b = pd.read_csv(pretrain_danq_f_b, sep=\"\\t\", names=[\"label\",\"score\"])\n",
    "\n",
    "fpr_scratch, tpr_scratch, thresholds_scratch = roc_curve(scratch[\"label\"], scratch[\"score\"])\n",
    "fpr_pre_danq, tpr_pre_danq, thresholds_pre_danq = roc_curve(pretrain_danq[\"label\"], pretrain_danq[\"score\"])\n",
    "fpr_scratch_b, tpr_scratch_b, thresholds_scratch_b = roc_curve(scratch_b[\"label\"], scratch_b[\"score\"])\n",
    "fpr_pre_danq_b, tpr_pre_danq_b, thresholds_pre_danq_b = roc_curve(pretrain_danq_b[\"label\"], pretrain_danq_b[\"score\"])\n",
    "\n",
    "fig = plt.figure()\n",
    "ax = fig.add_subplot(111)\n",
    "ax.plot(fpr_scratch, tpr_scratch, color=\"darkblue\", linestyle=\"dashed\", label=\"From scratch\");\n",
    "ax.plot(fpr_pre_danq, tpr_pre_danq, color=\"darkblue\", label=\"Pretrained (DanQ)\");\n",
    "ax.plot(fpr_scratch_b, tpr_scratch_b, color=\"darkred\", linestyle=\"dashed\", label=\"From scratch - core blocked\");\n",
    "ax.plot(fpr_pre_danq_b, tpr_pre_danq_b, color=\"darkred\", label=\"Pretrained - core blocked\");\n",
    "ax.plot([0,1],[0,1], color=\"black\", linewidth=0.5)\n",
    "ax.legend(loc=\"lower right\")\n",
    "\n",
    "ax.spines['right'].set_visible(False)\n",
    "ax.spines['top'].set_visible(False)\n",
    "ax.yaxis.set_ticks_position('left')\n",
    "ax.xaxis.set_ticks_position('bottom')\n",
    "ax.set_xlabel(\"False positive rate\", size=15);\n",
    "ax.set_ylabel(\"True positive rate\", size=15);\n",
    "\n",
    "fig.savefig(os.path.join(OUTDIR, \"example_roc_%s+GM12878.pdf\"%factor))"
   ]
  },
  {
   "cell_type": "markdown",
   "metadata": {},
   "source": [
    "# Figure 1C: compare to IMPACT"
   ]
  },
  {
   "cell_type": "code",
   "execution_count": 5,
   "metadata": {},
   "outputs": [
    {
     "name": "stderr",
     "output_type": "stream",
     "text": [
      "/storage/resources/source/anaconda2/envs/py37/lib/python3.7/site-packages/seaborn/categorical.py:2974: UserWarning: The `split` parameter has been renamed to `dodge`.\n",
      "  warnings.warn(msg, UserWarning)\n"
     ]
    },
    {
     "data": {
      "image/png": "[encoded data removed]",
      "text/plain": [
       "<Figure size 504x288 with 1 Axes>"
      ]
     },
     "metadata": {
      "needs_background": "light"
     },
     "output_type": "display_data"
    }
   ],
   "source": [
    "\n",
    "scores = {\n",
    "    \"1_Foxp3-IMPACT\": [],\n",
    "    \"1_Foxp3-AB\": [],\n",
    "    \"1_Foxp3-BLK\": [],\n",
    "    \"2_Stat3-IMPACT\": [],\n",
    "    \"2_Stat3-AB\": [],\n",
    "    \"2_Stat3-BLK\": [],\n",
    "    \"3_Tbet-IMPACT\": [],\n",
    "    \"3_Tbet-AB\": [],\n",
    "    \"3_Tbet-BLK\": [],\n",
    "    \"4_Gata3-IMPACT\": [],\n",
    "    \"4_Gata3-AB\": [],\n",
    "    \"4_Gata3-BLK\": [],\n",
    "}\n",
    "\n",
    "num = 10\n",
    "# AgentBind\n",
    "for i in range(40, 40+num):\n",
    "    sumdata = pd.read_csv(\"/storage/pandaman/project/AgentBind-IMPACT/results-c%s/c/auc_summary.txt\"%i, names=[\"TF\",\"ROC\",\"PR\"], sep=\"\\t\")\n",
    "    for j in range(sumdata.shape[0]):\n",
    "        tf = sumdata[\"TF\"].values[j]\n",
    "        ab = sumdata[\"ROC\"].values[j]\n",
    "        if tf == \"Foxp3\": tf = \"1_Foxp3\"\n",
    "        if tf == \"Stat3\": tf = \"2_Stat3\"\n",
    "        if tf == \"Tbet\": tf = \"3_Tbet\"\n",
    "        if tf == \"Gata3\": tf = \"4_Gata3\"\n",
    "        #im = sumdata[\"IMPACT\"].values[j]\n",
    "        #scores[tf+\"-IMPACT\"].append(im)\n",
    "        scores[tf+\"-AB\"].append(ab)\n",
    "        \n",
    "# w/ masks\n",
    "for i in range(60, 60+num):\n",
    "    sumdata = pd.read_csv(\"/storage/pandaman/project/AgentBind-IMPACT/results-c%s/c/auc_summary.txt\"%i, names=[\"TF\",\"ROC\",\"PR\"], sep=\"\\t\")\n",
    "    for j in range(sumdata.shape[0]):\n",
    "        tf = sumdata[\"TF\"].values[j]\n",
    "        ab = sumdata[\"ROC\"].values[j]\n",
    "        if tf == \"Foxp3\": tf = \"1_Foxp3\"\n",
    "        if tf == \"Stat3\": tf = \"2_Stat3\"\n",
    "        if tf == \"Tbet\": tf = \"3_Tbet\"\n",
    "        if tf == \"Gata3\": tf = \"4_Gata3\"\n",
    "        scores[tf+\"-BLK\"].append(ab)\n",
    "        \n",
    "# IMPACT\n",
    "scores[\"1_Foxp3-IMPACT\"] = [0.9484 ,   0.9471   , 0.9483 ,   0.9512,    0.9357  ,  0.9313 ,   0.968    ,0.9578 ,   0.9608   , 0.9335]\n",
    "scores[\"4_Gata3-IMPACT\"] = [0.9319,    0.9526  ,  0.9499 ,   0.9308 ,   0.9657 ,   0.9481  ,  0.9504  ,  0.9522,    0.9332 ,   0.9531]\n",
    "scores[\"2_Stat3-IMPACT\"] = [0.8897 ,   0.9008   , 0.908   , 0.906   , 0.8877  ,  0.8955   , 0.9069 ,   0.9017   , 0.9216 ,   0.9004]\n",
    "scores[\"3_Tbet-IMPACT\"] = [0.978 ,   0.9825  ,  0.9765 ,   0.9817  ,  0.9758  ,  0.9635  ,  0.9825  ,  0.9703 ,   0.9775,    0.9754]\n",
    "\n",
    "# dataframe to output\n",
    "idata = pd.DataFrame({\n",
    "    \"TF\": ([\"1_Foxp3\"]*num+[\"4_Gata3\"]*num+[\"2_Stat3\"]*num+[\"3_Tbet\"]*num)*3,\n",
    "    \"Trial\": (list(range(1, num+1))*4)*3,\n",
    "    \"method\": [\"IMPACT\"]*4*num+[\"AgentBind\"]*4*num+[\"AgentBind (core blocked)\"]*4*num,\n",
    "    \"ROC-AUC\": scores[\"1_Foxp3-IMPACT\"]+scores[\"4_Gata3-IMPACT\"]+scores[\"2_Stat3-IMPACT\"]+scores[\"3_Tbet-IMPACT\"] + \\\n",
    "        scores[\"1_Foxp3-AB\"]+scores[\"4_Gata3-AB\"]+scores[\"2_Stat3-AB\"]+scores[\"3_Tbet-AB\"] +\\\n",
    "        scores[\"1_Foxp3-BLK\"]+scores[\"4_Gata3-BLK\"]+scores[\"2_Stat3-BLK\"]+scores[\"3_Tbet-BLK\"]\n",
    "})\n",
    "idata = idata.sort_values(\"TF\")\n",
    "\n",
    "pal = {\"IMPACT\": \"darkgray\", \"AgentBind\": \"navy\", \"AgentBind (core blocked)\": \"maroon\"}\n",
    "fig = plt.figure()\n",
    "fig.set_size_inches((7, 4))\n",
    "ax = fig.add_subplot(111)\n",
    "#sns.set_style(\"darkgrid\")\n",
    "sns.swarmplot(x=\"TF\", y=\"ROC-AUC\", hue=\"method\", data=idata, ax=ax, \\\n",
    "             palette=pal, split=True, linewidth=0.5, edgecolor='gray')\n",
    "sns.boxplot(x=\"TF\", y=\"ROC-AUC\", hue=\"method\", data=idata, ax=ax, \\\n",
    "            palette=pal, linewidth=0.5, showfliers=False)\n",
    "\n",
    "handles, labels = ax.get_legend_handles_labels()\n",
    "ax.legend(handles[3:6], labels[3:6], loc=\"best\")\n",
    "ax.spines['right'].set_visible(False)\n",
    "ax.spines['top'].set_visible(False)\n",
    "ax.spines['bottom'].set_visible(False)\n",
    "\n",
    "ax.set_ylim(0.82, 1.004)\n",
    "ax.yaxis.set_ticks_position('left')\n",
    "ax.xaxis.set_ticks_position('bottom')\n",
    "ax.set_xticks([], [])\n",
    "ax.set_xlabel(\"\")\n",
    "\n",
    "fig.savefig(os.path.join(OUTDIR, \"ab_vs_impact.pdf\"))"
   ]
  }
 ],
 "metadata": {
  "kernelspec": {
   "display_name": "Python 3",
   "language": "python",
   "name": "python3"
  },
  "language_info": {
   "codemirror_mode": {
    "name": "ipython",
    "version": 3
   },
   "file_extension": ".py",
   "mimetype": "text/x-python",
   "name": "python",
   "nbconvert_exporter": "python",
   "pygments_lexer": "ipython3",
   "version": "3.7.4"
  }
 },
 "nbformat": 4,
 "nbformat_minor": 4
}
