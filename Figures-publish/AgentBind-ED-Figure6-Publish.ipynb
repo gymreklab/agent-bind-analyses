{
 "cells": [
  {
   "cell_type": "code",
   "execution_count": 3,
   "metadata": {},
   "outputs": [
    {
     "name": "stdout",
     "output_type": "stream",
     "text": [
      "Populating the interactive namespace from numpy and matplotlib\n"
     ]
    }
   ],
   "source": [
    "%pylab inline\n",
    "\n",
    "import matplotlib\n",
    "matplotlib.rcParams['pdf.fonttype'] = 42\n",
    "matplotlib.rcParams['ps.fonttype'] = 42\n",
    "\n",
    "import gzip\n",
    "import os\n",
    "import pandas as pd\n",
    "import scipy\n",
    "#from sklearn.metrics import roc_auc_score, roc_curve\n",
    "import seaborn as sns\n",
    "OUTDIR = \"pdfs/\""
   ]
  },
  {
   "cell_type": "markdown",
   "metadata": {},
   "source": [
    "This notebook contains code to generate the following results from Zheng et al 2020:\n",
    "\n",
    "* ED Figure 6a-c: QQ plots for factor/trait combinations\n",
    "* ED Figure 6e,f,g: QQ plot stratify by GCAM score\n",
    "* ED Figure 6e: GWAS example for WBC"
   ]
  },
  {
   "cell_type": "markdown",
   "metadata": {},
   "source": [
    "# ED Figure 6a-c QQ plots for factor/trait combinations"
   ]
  },
  {
   "cell_type": "code",
   "execution_count": 10,
   "metadata": {},
   "outputs": [
    {
     "name": "stdout",
     "output_type": "stream",
     "text": [
      "CTCF\n",
      "EBF1\n",
      "SP1\n",
      "PU1\n",
      "RUNX3\n",
      "NFYB\n",
      "Nrf1\n",
      "ELF1\n",
      "NFKB\n",
      "TCF3\n"
     ]
    }
   ],
   "source": [
    "#DIR=\"/storage/pandaman/project/singletons/AgentBind/\"\n",
    "DIR = \"/gymreklab-tscc/pandaman/AgentBind-research-results-IMPORTANT/singletons/AgentBind\"\n",
    "\n",
    "factors = [\"CTCF\",\"EBF1\",\"SP1\",\"PU1\",\"RUNX3\",\"NFYB\",\"Nrf1\",\"ELF1\",\"NFKB\",\"TCF3\"]\n",
    "factors_to_plot = factors \n",
    "f2c = {\n",
    "    \"SP1\": \"red\",\n",
    "    \"CTCF\": \"orange\",\n",
    "    \"EBF1\": \"yellow\",\n",
    "    \"PU1\": \"green\",\n",
    "    \"RUNX3\": \"blue\",\n",
    "    \"NFYB\": \"purple\",\n",
    "    \"Nrf1\": \"violet\",\n",
    "    \"ELF1\": \"magenta\",\n",
    "    \"NFKB\": \"cyan\",\n",
    "    \"TCF3\": \"brown\"\n",
    "}\n",
    "\n",
    "trait_to_gwas = {\n",
    "    \"WBC\": \"/storage/pandaman/project/GWAS/wbc_N172435_narrow_form.tsv.gz\",\n",
    "    \"RBC\": \"/storage/mgymrek/agent-bind/gwas/summstats/RBC_N172952_summ.tab\",\n",
    "    \"IBD\": \"/storage/mgymrek/agent-bind/gwas/summstats/EUR.IBD_summ.tab\"\n",
    "}\n",
    "\n",
    "# Load scores for SNPs for each factor\n",
    "factordata = {}\n",
    "for f in factors:\n",
    "    print (f)\n",
    "    # load data\n",
    "    fdata = pd.read_csv(os.path.join(DIR, f, \"scores.tab\"), sep=\"\\t\", skiprows=1,\n",
    "                            names=[\"chrom\",\"start\",\"raw.score\",\"snr.score\",\"rank\",\"core\"])\n",
    "    fdata = fdata[~np.isnan(fdata[\"raw.score\"])]\n",
    "    fdata = fdata[~np.isnan(fdata[\"snr.score\"])]\n",
    "    fdata[\"factor\"] = f\n",
    "    factordata[f] = fdata"
   ]
  },
  {
   "cell_type": "code",
   "execution_count": null,
   "metadata": {},
   "outputs": [],
   "source": [
    "# Perform trait-specific analysis\n",
    "for trait in [\"WBC\", \"RBC\", \"IBD\"]:\n",
    "\n",
    "    # Load GWAS data for the trait of interest\n",
    "    gwas = pd.read_csv(trait_to_gwas[trait], sep=\"\\t\")\n",
    "    gwas[\"CHR\"] = gwas[\"CHR\"].apply(lambda x: \"chr\"+str(x))\n",
    "    gwas[\"BP\"] = gwas[\"BP\"].apply(lambda x: x-1)\n",
    "    gwas = gwas.rename(columns={\"CHR\": \"chrom\", \"BP\": \"start\"})\n",
    "\n",
    "    # Merge with GWAS data\n",
    "    gwd = {}\n",
    "    for f in factors:\n",
    "        fd = factordata[f]\n",
    "        fd[\"chrom\"] = fd[\"chrom\"].apply(str)\n",
    "        merged_df = pd.merge(fd, gwas, on=[\"chrom\",\"start\"])\n",
    "        merged_df = merged_df[((merged_df[\"REF\"]).str.len() == 1) & ((merged_df[\"ALT\"]).str.len() == 1)]\n",
    "        merged_df = merged_df.sort_values(\"rank\", ascending=False)\n",
    "        merged_df = merged_df.drop_duplicates(subset=[\"chrom\", \"start\"], keep='first')\n",
    "        gwd[f] = merged_df\n",
    "        \n",
    "    ####### Plot multiple TFs (a-c) #####\n",
    "    fig = plt.figure()\n",
    "    fig.set_size_inches((5, 5))\n",
    "    ax = fig.add_subplot(111)\n",
    "    ax.set_xlabel(\"expected\", size=15)\n",
    "    ax.set_ylabel(\"observed\", size=15)\n",
    "    ((xmin,xmax), (ymin,ymax)) = ((0, 3.5), (0, 30))\n",
    "    ax.add_line(matplotlib.lines.Line2D([ymin,ymax], [ymin,ymax]))\n",
    "    ax.set_xlim([xmin, xmax])\n",
    "    #ax.set_ylim([ymin, ymax])\n",
    "    \n",
    "    s_random = [-log10(random.random()) for _ in range(int(10e6))]\n",
    "    for f in f2c.keys():\n",
    "        high_scored_ab = gwd[f][gwd[f][\"rank\"] >= rank_perc[perc_index]]\n",
    "        s_high_scored_ab = high_scored_ab[\"MLOG10P\"]\n",
    "        y_points_ab = sorted(s_high_scored_ab.values.tolist())        \n",
    "        x_points = sorted(s_random[:high_scored_ab.shape[0]])     \n",
    "        ax.scatter(x_points, y_points_ab,  s=5, c=f2c[f], label=f)\n",
    "    if trait == \"IBD\": ax.legend(loc=\"upper left\")\n",
    "    fig.savefig(os.path.join(OUTDIR, \"AgentBind-MultiFactor-%s.png\"%trait))\n",
    "    \n",
    "    ####### Plot multiple TFs (a-c) #####\n",
    "    if trait == \"WBC\":\n",
    "        f = \"SP1\"\n",
    "    if trait == \"RBC\":\n",
    "        f = \"Nrf1\"\n",
    "    if trait == \"IBD\":\n",
    "        f = \"NFKB\"\n",
    "        \n",
    "    high_scored_ab = gwd[f][gwd[f][\"rank\"] >= rank_perc[0]]\n",
    "    high_scored_ab_ext = gwd[f][gwd[f][\"rank\"] >= rank_perc[1]]\n",
    "\n",
    "    # control - same MA_FREQ distribution\n",
    "    dist, _ = np.histogram(high_scored_ab[\"MA_FREQ\"].tolist(), bins=bins)\n",
    "    control_list = []\n",
    "    control_list_all = []\n",
    "    for bin_index in range(len(bins)-1):\n",
    "        lower, upper = bins[bin_index], bins[bin_index + 1]\n",
    "        n_samples = dist[bin_index]\n",
    "        control_list.append((gwd[f][(gwd[f][\"MA_FREQ\"] >= lower) & (gwd[f][\"MA_FREQ\"] < upper)]).sample(n_samples))\n",
    "        control_list_all.append((gwas[(gwas[\"MA_FREQ\"] >= lower) & (gwas[\"MA_FREQ\"] < upper)]).sample(n_samples))\n",
    "    control = pd.concat(control_list)\n",
    "    control_all = pd.concat(control_list_all)\n",
    "        \n",
    "    s_high_scored_ab = high_scored_ab[\"MLOG10P\"]\n",
    "    s_high_scored_ab_ext = high_scored_ab_ext[\"MLOG10P\"]\n",
    "    s_ct = control[\"MLOG10P\"]\n",
    "    s_ct_all = control_all[\"MLOG10P\"]\n",
    "\n",
    "    s_random = [-log10(random.random()) for _ in range(high_scored_ab.shape[0])]\n",
    "    s_random_ext = s_random[:high_scored_ab_ext.shape[0]]\n",
    "        \n",
    "    y_points_ab = sorted(s_high_scored_ab.values.tolist())\n",
    "    y_points_ab_ext = sorted(s_high_scored_ab_ext.values.tolist())\n",
    "    y_points_ct = sorted(s_ct.values.tolist())\n",
    "    y_points_ct_all = sorted(s_ct_all.values.tolist())\n",
    "    x_points = sorted(s_random)\n",
    "    x_points_ext = sorted(s_random_ext)\n",
    "        \n",
    "    fig = plt.figure()\n",
    "    fig.set_size_inches((5, 5))\n",
    "    ax = fig.add_subplot(111)\n",
    "    line_ct_all = ax.scatter(x_points, y_points_ct_all, c=\"grey\", s=10)\n",
    "    line_ct = ax.scatter(x_points, y_points_ct, c=\"k\", s=10)\n",
    "    line_ab = ax.scatter(x_points, y_points_ab, c=\"orange\", s=10)\n",
    "    #ax.scatter(x_points_ext, y_points_ab_ext, c=\"red\", s=10)\n",
    "    ax.set_xlabel(\"$-log_{10} P (expected)$\", size=15)\n",
    "    ax.set_ylabel(\"$-log_{10} P (observed)$\", size=15)\n",
    "    ((xmin,xmax), (ymin,ymax)) = ((0, 4.5), (0, 90))\n",
    "    ax.add_line(matplotlib.lines.Line2D([ymin,ymax], [ymin,ymax]))\n",
    "    ax.set_xlim([xmin, xmax])\n",
    "    ax.set_ylim([ymin, ymax])\n",
    "    ax.legend([line_ab, line_ct, line_ct_all],\n",
    "              [\"Top 5% GradCAM (%s)\"%factor, \"All context (%s)\"%factor, \"Genome-wide\"],\n",
    "              loc=\"upper left\", frameon=False)\n",
    "    fig.savefig(os.path.join(OUTDIR, \"GWAS_%s_%s.pdf\"%(f, trait)))"
   ]
  },
  {
   "cell_type": "markdown",
   "metadata": {},
   "source": [
    "# ED Figure 6e - GWAS Example for WBC"
   ]
  },
  {
   "cell_type": "code",
   "execution_count": 4,
   "metadata": {},
   "outputs": [],
   "source": [
    "# Paths\n",
    "COREDIR = \"/storage/pandaman/project/AgentBind-GM12878-DanQ-unfixed-rnn-trans/storage/AgentBind-GM12878-DanQ/tmp/\"\n",
    "\n",
    "# Data for the hit\n",
    "#chrom = \"chr6\"; pos = 31535454 # LTA, TNF region lots of info on this one\n",
    "#chrom=\"chr3\"; pos=101498076; # NXPE3\n",
    "chrom=\"chr2\"; pos=143886818; # ARHGAP15 #https://ashpublications.org/blood/article/118/4/1099/28906/The-RacGAP-ArhGAP15-is-a-master-negative-regulator\n",
    "factor = \"SP1\"\n",
    "gwasfile = \"/storage/mgymrek/agent-bind/gwas-round2/indexed-data/wbc_summstats.bed.gz\"\n",
    "\n",
    "# Data files\n",
    "maskfile = os.path.join(COREDIR, \"%s+GM12878\"%factor, \"seqs_one_hot_b/vis-weights-total/weight.txt\")\n",
    "\n",
    "WINDOW = 1000000 # 100000\n",
    "def LoadGWAS(gwasfile, usechrom, usepos, WINDOW):\n",
    "    pos = []\n",
    "    pval = []\n",
    "    rsid = []\n",
    "    with gzip.open(gwasfile, \"rt\") as f:\n",
    "        for line in f:\n",
    "            items = line.strip().split()\n",
    "            chrom = items[0]\n",
    "            start = int(items[1])\n",
    "            p = float(items[4])\n",
    "            rs = items[3]\n",
    "            if chrom!=usechrom: continue\n",
    "            if usepos > start-WINDOW and usepos < start+WINDOW:\n",
    "                pos.append(start)\n",
    "                pval.append(p)\n",
    "                rsid.append(rs)\n",
    "    return pd.DataFrame({\"pos\": pos, \"rsid\": rsid, \"pval\": pval})\n",
    "gwasdata = LoadGWAS(gwasfile, chrom, pos, WINDOW)"
   ]
  },
  {
   "cell_type": "code",
   "execution_count": 6,
   "metadata": {},
   "outputs": [
    {
     "name": "stdout",
     "output_type": "stream",
     "text": [
      "chr2;143886878;143886889;143886384;143887384;+\n",
      "\n"
     ]
    }
   ],
   "source": [
    "# chr7;38217660;38217671;38217166;38218166;+\n",
    "#chr10;99078951;99078962;99078457;99079457;+\n",
    "def LoadScores(weightfile, usechrom, usepos):\n",
    "    f = open(weightfile, \"r\")\n",
    "    locline = f.readline()\n",
    "    wline = f.readline()\n",
    "    ASIZE = 1000\n",
    "    pos = [None]*ASIZE\n",
    "    while locline.strip() != \"\":\n",
    "        locitems = locline.split(\";\")\n",
    "        chrom = locitems[0]\n",
    "        start = int(locitems[3])\n",
    "        end = int(locitems[4])\n",
    "        if not ((chrom == usechrom) and (usepos>=start) and (usepos<=end)):\n",
    "            locline = f.readline()\n",
    "            wline = f.readline()\n",
    "            continue\n",
    "        print(locline)\n",
    "        # Parse weights\n",
    "        weights = [max([0, float(item)]) for item in wline.strip().split(\";\")]\n",
    "        # Update weights and pos\n",
    "        pos = list(range(start-1, start-1+ASIZE))\n",
    "        return pd.DataFrame({\"pos\": pos, \"weight\": weights})\n",
    "        locline = f.readline()\n",
    "        wline = f.readline()\n",
    "    return None\n",
    "\n",
    "scoredata = LoadScores(maskfile, chrom, pos)"
   ]
  },
  {
   "cell_type": "code",
   "execution_count": 7,
   "metadata": {},
   "outputs": [
    {
     "data": {
      "image/png": "[encoded data removed]",
      "text/plain": [
       "<Figure size 720x360 with 1 Axes>"
      ]
     },
     "metadata": {
      "needs_background": "light"
     },
     "output_type": "display_data"
    }
   ],
   "source": [
    "data = pd.merge(scoredata, gwasdata, on=[\"pos\"], how=\"outer\").sort_values(\"pos\")\n",
    "fig = plt.figure()\n",
    "fig.set_size_inches((10, 5))\n",
    "ax = fig.add_subplot(111)\n",
    "ax.scatter(data[\"pos\"], data[\"pval\"].apply(lambda x: -1*np.log10(x)), color=\"gray\", s=5)\n",
    "ax.axhline(y=-1*np.log10(5*10**-8), linestyle=\"dashed\", color=\"gray\")\n",
    "\n",
    "hit = data[data[\"pos\"]==pos+1]\n",
    "ax.scatter(hit[\"pos\"], hit[\"pval\"].apply(lambda x: -1*np.log10(x)), color=\"red\", marker=\"*\", s=50)\n",
    "\n",
    "fig.savefig(os.path.join(OUTDIR, \"GWASExample-ARHGAP15.pdf\"))"
   ]
  }
 ],
 "metadata": {
  "kernelspec": {
   "display_name": "Python 3",
   "language": "python",
   "name": "python3"
  },
  "language_info": {
   "codemirror_mode": {
    "name": "ipython",
    "version": 3
   },
   "file_extension": ".py",
   "mimetype": "text/x-python",
   "name": "python",
   "nbconvert_exporter": "python",
   "pygments_lexer": "ipython3",
   "version": "3.7.4"
  }
 },
 "nbformat": 4,
 "nbformat_minor": 4
}
